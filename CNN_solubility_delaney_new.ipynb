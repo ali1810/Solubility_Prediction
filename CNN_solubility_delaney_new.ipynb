{
  "nbformat": 4,
  "nbformat_minor": 0,
  "metadata": {
    "colab": {
      "name": "CNN_solubility_delaney_new.ipynb",
      "provenance": [],
      "collapsed_sections": [],
      "mount_file_id": "1SNvf5WsPumvFay1DfyE2sN29e5WBazQx",
      "authorship_tag": "ABX9TyNTlRMAbqyRkRDtwYoPhJLo",
      "include_colab_link": true
    },
    "kernelspec": {
      "name": "python3",
      "display_name": "Python 3"
    },
    "language_info": {
      "name": "python"
    }
  },
  "cells": [
    {
      "cell_type": "markdown",
      "metadata": {
        "id": "view-in-github",
        "colab_type": "text"
      },
      "source": [
        "<a href=\"https://colab.research.google.com/github/ali1810/Solubility_prediction_CNN/blob/main/CNN_solubility_delaney_new.ipynb\" target=\"_parent\"><img src=\"https://colab.research.google.com/assets/colab-badge.svg\" alt=\"Open In Colab\"/></a>"
      ]
    },
    {
      "cell_type": "code",
      "metadata": {
        "id": "3eSEwX-yHWYL"
      },
      "source": [
        ""
      ],
      "execution_count": null,
      "outputs": []
    },
    {
      "cell_type": "markdown",
      "metadata": {
        "id": "uVsKe_wHHbwq"
      },
      "source": [
        "### In this notebook, I am going to train deep learning models Convolutional Neural Network to predict the aqueous solubility of organic materials based on their smiles.\n",
        "\n",
        "The composition will be specified as SMILES strings, which are a convenient way to represent the structure of organic materials. I will use these SMILES strings as inputs to a convolutional neural network and predict the solubility of organic materials.\n",
        "\n",
        "Outline of this notebook: Load and pre-process training data Load solubility dataset containing many organic molecules and their associated solubilities Pre-process data and split to test/train sets Train a Convolutional neural network (CNN) Train a CNN to predict solubility Predict solubility from any given SMILES representation of a molecule\n",
        "## Dataset : ESOL delaney processed data "
      ]
    },
    {
      "cell_type": "code",
      "metadata": {
        "id": "l4Ll6TSRKLb1"
      },
      "source": [
        "# general imports\n",
        "import pandas as pd\n",
        "import seaborn as sns\n",
        "import matplotlib.pyplot as plt\n",
        "import numpy as np\n",
        "\n",
        "# keras imports\n",
        "from keras.layers import (Input, Dense, Conv1D, MaxPool1D, Dropout, GRU, LSTM, \n",
        "                          TimeDistributed, Add, Flatten, RepeatVector, Lambda, Concatenate)\n",
        "from keras.models import Model, load_model\n",
        "from keras.metrics import binary_crossentropy\n",
        "from keras import initializers\n",
        "import keras.backend as K\n",
        "\n",
        "# Visualization\n",
        "#from keras_sequential_ascii import keras2ascii\n",
        "\n",
        "# utils functions\n",
        "#from utils import *\n",
        "\n",
        "import os\n",
        "os.environ['KMP_DUPLICATE_LIB_OK']='True'\n",
        "\n",
        "# Remove warnings from output\n",
        "import warnings\n",
        "warnings.filterwarnings('ignore')"
      ],
      "execution_count": null,
      "outputs": []
    },
    {
      "cell_type": "markdown",
      "metadata": {
        "id": "J1E0ps07KVaR"
      },
      "source": [
        "###Load, view, and preprocess dataset We will use the ESOL dataset to train our models. The ESOL dataset contains the solubility of various small organic molecules. I will begin by loading the dataset as a dataframe and then inspecting some basic metadata. We'll also preprocess the dataset and create train/test splits for the Convolutional Neural Network (CNN)"
      ]
    },
    {
      "cell_type": "code",
      "metadata": {
        "colab": {
          "base_uri": "https://localhost:8080/",
          "height": 384
        },
        "id": "cD7kZ8ymKZdx",
        "outputId": "7b289064-980f-4e0d-c8dc-bafd67e48edc"
      },
      "source": [
        "# read dataset as a dataframe\n",
        "dataset = pd.read_csv(\"/content/drive/MyDrive/ESOL_delaney-processed.csv\")\n",
        "\n",
        "# print column names in dataset\n",
        "print(f\"Columns in dataset: {list(dataset.columns)}\")\n",
        "\n",
        "# print number of rows in dataset\n",
        "print(f\"\\nLength of dataset: {len(dataset)}\")\n",
        "\n",
        "# shuffle rows of the dataset (we could do this later as well when doing train/test splits)\n",
        "dataset = dataset.sample(frac=1, random_state=0)\n",
        "\n",
        "# show first 5 rows of dataframe\n",
        "dataset.head()"
      ],
      "execution_count": null,
      "outputs": [
        {
          "output_type": "stream",
          "text": [
            "Columns in dataset: ['Unnamed: 0', 'Compound ID', 'ESOL predicted log solubility in mols per litre', 'Minimum Degree', 'Molecular Weight', 'Number of H-Bond Donors', 'Number of Rings', 'Number of Rotatable Bonds', 'Polar Surface Area', 'measured log solubility in mols per litre', 'smiles']\n",
            "\n",
            "Length of dataset: 1128\n"
          ],
          "name": "stdout"
        },
        {
          "output_type": "execute_result",
          "data": {
            "text/html": [
              "<div>\n",
              "<style scoped>\n",
              "    .dataframe tbody tr th:only-of-type {\n",
              "        vertical-align: middle;\n",
              "    }\n",
              "\n",
              "    .dataframe tbody tr th {\n",
              "        vertical-align: top;\n",
              "    }\n",
              "\n",
              "    .dataframe thead th {\n",
              "        text-align: right;\n",
              "    }\n",
              "</style>\n",
              "<table border=\"1\" class=\"dataframe\">\n",
              "  <thead>\n",
              "    <tr style=\"text-align: right;\">\n",
              "      <th></th>\n",
              "      <th>Unnamed: 0</th>\n",
              "      <th>Compound ID</th>\n",
              "      <th>ESOL predicted log solubility in mols per litre</th>\n",
              "      <th>Minimum Degree</th>\n",
              "      <th>Molecular Weight</th>\n",
              "      <th>Number of H-Bond Donors</th>\n",
              "      <th>Number of Rings</th>\n",
              "      <th>Number of Rotatable Bonds</th>\n",
              "      <th>Polar Surface Area</th>\n",
              "      <th>measured log solubility in mols per litre</th>\n",
              "      <th>smiles</th>\n",
              "    </tr>\n",
              "  </thead>\n",
              "  <tbody>\n",
              "    <tr>\n",
              "      <th>873</th>\n",
              "      <td>873</td>\n",
              "      <td>2,4-Dimethyl-2-pentanol</td>\n",
              "      <td>-1.647</td>\n",
              "      <td>1</td>\n",
              "      <td>116.204</td>\n",
              "      <td>1</td>\n",
              "      <td>0</td>\n",
              "      <td>2</td>\n",
              "      <td>20.23</td>\n",
              "      <td>-0.92</td>\n",
              "      <td>CC(C)CC(C)(C)O</td>\n",
              "    </tr>\n",
              "    <tr>\n",
              "      <th>427</th>\n",
              "      <td>427</td>\n",
              "      <td>rhodanine</td>\n",
              "      <td>-0.396</td>\n",
              "      <td>1</td>\n",
              "      <td>133.197</td>\n",
              "      <td>1</td>\n",
              "      <td>1</td>\n",
              "      <td>0</td>\n",
              "      <td>29.10</td>\n",
              "      <td>-1.77</td>\n",
              "      <td>O=C1CSC(=S)N1</td>\n",
              "    </tr>\n",
              "    <tr>\n",
              "      <th>638</th>\n",
              "      <td>638</td>\n",
              "      <td>Bromoethane</td>\n",
              "      <td>-1.529</td>\n",
              "      <td>1</td>\n",
              "      <td>108.966</td>\n",
              "      <td>0</td>\n",
              "      <td>0</td>\n",
              "      <td>0</td>\n",
              "      <td>0.00</td>\n",
              "      <td>-1.09</td>\n",
              "      <td>CCBr</td>\n",
              "    </tr>\n",
              "    <tr>\n",
              "      <th>950</th>\n",
              "      <td>950</td>\n",
              "      <td>Chloropham</td>\n",
              "      <td>-3.544</td>\n",
              "      <td>1</td>\n",
              "      <td>213.664</td>\n",
              "      <td>1</td>\n",
              "      <td>1</td>\n",
              "      <td>2</td>\n",
              "      <td>38.33</td>\n",
              "      <td>-3.38</td>\n",
              "      <td>CC(C)OC(=O)NC1:C:C:C:C(Cl):C:1</td>\n",
              "    </tr>\n",
              "    <tr>\n",
              "      <th>436</th>\n",
              "      <td>436</td>\n",
              "      <td>Diethyl sulfide</td>\n",
              "      <td>-1.598</td>\n",
              "      <td>1</td>\n",
              "      <td>90.191</td>\n",
              "      <td>0</td>\n",
              "      <td>0</td>\n",
              "      <td>2</td>\n",
              "      <td>0.00</td>\n",
              "      <td>-1.34</td>\n",
              "      <td>CCSCC</td>\n",
              "    </tr>\n",
              "  </tbody>\n",
              "</table>\n",
              "</div>"
            ],
            "text/plain": [
              "     Unnamed: 0  ...                          smiles\n",
              "873         873  ...                  CC(C)CC(C)(C)O\n",
              "427         427  ...                   O=C1CSC(=S)N1\n",
              "638         638  ...                            CCBr\n",
              "950         950  ...  CC(C)OC(=O)NC1:C:C:C:C(Cl):C:1\n",
              "436         436  ...                           CCSCC\n",
              "\n",
              "[5 rows x 11 columns]"
            ]
          },
          "metadata": {},
          "execution_count": 2
        }
      ]
    },
    {
      "cell_type": "code",
      "metadata": {
        "id": "YO7CYmwHKye_"
      },
      "source": [
        "###  Creating New \"smiles_length\" column to reduce the feature of smiles ....\n",
        "\n",
        "dataset[\"smiles_length\"]= dataset[\"smiles\"].apply(len)"
      ],
      "execution_count": null,
      "outputs": []
    },
    {
      "cell_type": "code",
      "metadata": {
        "colab": {
          "base_uri": "https://localhost:8080/"
        },
        "id": "GU0FhZHSLDRf",
        "outputId": "aa26b7fa-6967-42e4-9082-3335081a9607"
      },
      "source": [
        "### Maximum length of smiles in the dataset \n",
        "max_lenghth=max(dataset[\"smiles_length\"])\n",
        "max_lenghth"
      ],
      "execution_count": null,
      "outputs": [
        {
          "output_type": "execute_result",
          "data": {
            "text/plain": [
              "97"
            ]
          },
          "metadata": {},
          "execution_count": 4
        }
      ]
    },
    {
      "cell_type": "code",
      "metadata": {
        "id": "CFZUkIT5LSZj"
      },
      "source": [
        "## To select specific length of smiles ...\n",
        "\n",
        "#dataset1  = dataset[dataset['smiles_length'] < 65]"
      ],
      "execution_count": null,
      "outputs": []
    },
    {
      "cell_type": "markdown",
      "metadata": {
        "id": "NsgHI-zcLk41"
      },
      "source": [
        "### We can explore the range of solubilities found in the dataset by plotting a histogram of solubility values from the dataset. Our machine learning models will aim to predict these solubilities."
      ]
    },
    {
      "cell_type": "code",
      "metadata": {
        "colab": {
          "base_uri": "https://localhost:8080/",
          "height": 297
        },
        "id": "-3Jw99vNLj24",
        "outputId": "2e0ffa10-7cc5-4ddc-da39-31672d8facb6"
      },
      "source": [
        "sns.distplot(dataset[\"measured log solubility in mols per litre\"])"
      ],
      "execution_count": null,
      "outputs": [
        {
          "output_type": "execute_result",
          "data": {
            "text/plain": [
              "<matplotlib.axes._subplots.AxesSubplot at 0x7ff5b2b623d0>"
            ]
          },
          "metadata": {},
          "execution_count": 6
        },
        {
          "output_type": "display_data",
          "data": {
            "image/png": "[encoded data removed]",
            "text/plain": [
              "<Figure size 432x288 with 1 Axes>"
            ]
          },
          "metadata": {
            "needs_background": "light"
          }
        }
      ]
    },
    {
      "cell_type": "code",
      "metadata": {
        "id": "YHjRIjq1MciN"
      },
      "source": [
        "## Function to create unique character from string \n",
        "\n",
        "def generate_charset(full_char_list:list) -> list:\n",
        "    '''\n",
        "    Assumes full_char_list is a list of characters (e.g., ['c', 'c', '1']).\n",
        "    Returns a sorted list of unique characters, with index zero as a NULL character, and a PAD character.\n",
        "    '''\n",
        "    unique_chars = set(''.join(full_char_list))\n",
        "    charset = ['NULL', 'PAD'] + sorted(unique_chars)\n",
        "    return charset"
      ],
      "execution_count": null,
      "outputs": []
    },
    {
      "cell_type": "code",
      "metadata": {
        "id": "XaP0YctzMh5r"
      },
      "source": [
        "### Function to create one hot encoder ....\n",
        "import numpy as np \n",
        "def smiles_to_onehots(smiles_strings:list,\n",
        "                     unique_charset:list,\n",
        "                     max_smiles_chars:int) -> np.array:\n",
        "    one_hots = []\n",
        "    charset_length = len(unique_charset)\n",
        "\n",
        "    for smiles_string in smiles_strings:\n",
        "        one_hot_smiles = np.zeros(shape=(max_smiles_chars, charset_length))\n",
        "        for i in range(max_smiles_chars):\n",
        "            one_hot_col = [0]*charset_length\n",
        "            ind = None # Which index will we flip to be \"one-hot\"?\n",
        "            \n",
        "            if i < len(smiles_string):\n",
        "                try:\n",
        "                    ind = unique_charset.index(smiles_string[i])\n",
        "                    # one_hot_col[unique_charset.index(char)] = 1\n",
        "                except ValueError:\n",
        "                    ind = 0 # Treat as NULL if out-of-vocab  \n",
        "                    # one_hot_col[0] = 1 # Treat as NULL if out-of-vocab   \n",
        "            else:\n",
        "                ind = 1 # Add PAD as needed\n",
        "            \n",
        "            one_hot_col[ind] = 1\n",
        "            one_hot_smiles[i,:] = one_hot_col\n",
        "            \n",
        "        one_hots.append(one_hot_smiles)\n",
        "    return np.array(one_hots)"
      ],
      "execution_count": null,
      "outputs": []
    },
    {
      "cell_type": "code",
      "metadata": {
        "colab": {
          "base_uri": "https://localhost:8080/"
        },
        "id": "1_F5wT_fMmLo",
        "outputId": "540b6530-6e53-4a32-c7d9-1b541cf0f1ed"
      },
      "source": [
        "# get unique character set in all SMILES strings \n",
        "charset = generate_charset(dataset[\"smiles\"].values.ravel())\n",
        "print(charset )\n",
        "# get the number of unique characters\n",
        "charset_length = len(charset)\n",
        "#print(charset_length)\n",
        "print(charset_length)\n",
        "\n",
        "# define max number of SMILES for model input vector\n",
        "max_smiles_chars = 97\n",
        "\n",
        "# dimension of input vector\n",
        "input_dim = charset_length * max_smiles_chars\n",
        "\n",
        "# get one-hot representation of the SMILES strings \n",
        "one_hots = smiles_to_onehots(dataset[\"smiles\"].values, charset, max_smiles_chars)\n",
        "\n",
        "# split input into train and test sets\n",
        "X_train = one_hots[:-100]\n",
        "X_test = one_hots[-100:]\n",
        "\n",
        "# split output to train and test sets\n",
        "output = dataset[\"measured log solubility in mols per litre\"].values\n",
        "Y_train = output[:-100]\n",
        "Y_test = output[-100:]"
      ],
      "execution_count": null,
      "outputs": [
        {
          "output_type": "stream",
          "text": [
            "['NULL', 'PAD', '#', '(', ')', '+', '-', '/', '1', '2', '3', '4', '5', '6', '7', ':', '=', 'B', 'C', 'F', 'H', 'I', 'N', 'O', 'P', 'S', '[', '\\\\', ']', 'l', 'r']\n",
            "31\n"
          ],
          "name": "stdout"
        }
      ]
    },
    {
      "cell_type": "markdown",
      "metadata": {
        "id": "4IdBorIkL-4T"
      },
      "source": [
        "### Data preparation Now we will pre-process the dataset for the CNN models. First, we'll get the unique character set from all SMILES strings in the dataset. Then we will use the unique character set to convert our SMILES strings to a one-hot representation, which is a representation that converts raw strings of text to numerical inputs for our models.\n",
        "\n",
        "In a one-hot representation, each character of our SMILES string is encoded as a vector of zeros, except for one non-zero value. For instance, the character 'C' in the SMILES string is converted to a vector of length 31, consisting of 30 zeros and one non-zero entry of one. The length of this vector (31 in our case) is the total number of unique characters in the dataset.\n",
        "\n",
        "Given a string of 5 characters (say Pentane, which is represented as 'CCCCC'), we would thus get 5 vectors each of length 31. Since different molecules have different SMILES string lengths, we can pre-define the length of each string to be the maximum length from the database, with smaller molecules represented with additional characters. In our case, this maximum length is 97 and we represent the extra characters for smaller molecules with pre-defined one-hot vectors. This means that each molecule is now represented as a set of 97 vectors, each of length 31. We can represent this as a 97x31 matrix.\n",
        "\n",
        "One-hot encoding is commonly used in natural language processing, and you can learn more about one-hot encoding here.\n",
        "\n",
        "Finally, we will define our input and output and create test/train splits in the dataset.\n",
        "\n"
      ]
    },
    {
      "cell_type": "markdown",
      "metadata": {
        "id": "-Xld0zVZN0_I"
      },
      "source": [
        "####Let's briefly visualize what our input data looks like using a heatmap that shows the position of each character in the SMILES string, you can change the index to see various molecules. Each molecule is represented by a 40x31 sparse matrix, the bright spots in the heatmap indicate the position at which a one is found in the matrix"
      ]
    },
    {
      "cell_type": "code",
      "metadata": {
        "colab": {
          "base_uri": "https://localhost:8080/",
          "height": 301
        },
        "id": "As4fW4QBMETI",
        "outputId": "9dd28165-6828-4a23-919a-af42b7cb99a3"
      },
      "source": [
        "index = 761\n",
        "sns.heatmap(X_train[index]) # This is a single training example -- note that it is a matrix, not a single vector!\n",
        "plt.xlabel('Character')\n",
        "plt.ylabel('Position in SMILES String')\n",
        "print(dataset.iloc[index]['smiles'])"
      ],
      "execution_count": null,
      "outputs": [
        {
          "output_type": "stream",
          "text": [
            "CC1:N:C:C([N+](=O)[O-]):N:1CCO\n"
          ],
          "name": "stdout"
        },
        {
          "output_type": "display_data",
          "data": {
            "image/png": "[encoded data removed]",
            "text/plain": [
              "<Figure size 432x288 with 2 Axes>"
            ]
          },
          "metadata": {
            "needs_background": "light"
          }
        }
      ]
    },
    {
      "cell_type": "markdown",
      "metadata": {
        "id": "VSeZQgX1ODB4"
      },
      "source": [
        "####Supervised CNN model for predicting solubility In this section, we will set up a convolutional neural network to predict solubility using one-hot SMILES as input. A convolutional neural network is a machine learning model that is commonly used to classify images, and you can learn more about them here.\n",
        "\n",
        "Define model structure First, we will create the model structure, starting with the input layer. As described above, each training example is a 97x31 matrix, which is the shape we pass to the Input layer in Keras."
      ]
    },
    {
      "cell_type": "code",
      "metadata": {
        "id": "-5ISaEHCPbWt"
      },
      "source": [
        "# Define the input layer\n",
        "# NOTE: We feed in a sequence here! We're inputting up to max_smiles_chars characters, \n",
        "# and each character is an array of length charset_length\n",
        "smiles_input = Input(shape=(max_smiles_chars, charset_length), name=\"SMILES-Input\")"
      ],
      "execution_count": null,
      "outputs": []
    },
    {
      "cell_type": "markdown",
      "metadata": {
        "id": "9l73E42pNxJV"
      },
      "source": [
        ""
      ]
    },
    {
      "cell_type": "markdown",
      "metadata": {
        "id": "FCM86N3XPhX7"
      },
      "source": [
        "###Next we will define the convolution layers where each layer attempts to learn certain features of the images, such as edges and corners. The input to each layer (a matrix) is transformed via convolution operations, which are element by element multiplications of the input matrix and a filter matrix. The convolutional layer learns the filter matrix that will best identify unique features of the image. You can learn more about convolution operations and the math behind convolutional neural networks here."
      ]
    },
    {
      "cell_type": "code",
      "metadata": {
        "id": "rZAyWBm4Prtm"
      },
      "source": [
        "# Set parameters for convolutional layers \n",
        "num_conv_filters = 64\n",
        "kernel_size = 3\n",
        "\n",
        "init_weights = initializers.glorot_normal(seed=0)\n",
        "\n",
        "# Define the convolutional layers\n",
        "# Multiple convolutions in a row is a common architecture (but there are many \"right\" choices here)\n",
        "conv_1_func = Conv1D(\n",
        "    filters=num_conv_filters, # What is the \"depth\" of the convolution? How many times do you look at the same spot?\n",
        "    kernel_size=kernel_size, # How \"wide\" of a spot does each filter look at?\n",
        "    name=\"Convolution-1\",\n",
        "    activation=\"relu\", # This is a common activation function: Rectified Linear Unit (ReLU)\n",
        "    kernel_initializer=init_weights #This defines the initial values for the weights\n",
        ")\n",
        "conv_2_func = Conv1D(\n",
        "    filters=num_conv_filters, \n",
        "    kernel_size=kernel_size, \n",
        "    name=\"Convolution-2\",\n",
        "    activation=\"relu\",\n",
        "    kernel_initializer=init_weights\n",
        ")\n",
        "conv_3_func = Conv1D(\n",
        "    filters=num_conv_filters, \n",
        "    kernel_size=kernel_size, \n",
        "    name=\"Convolution-3\",\n",
        "    activation=\"relu\",\n",
        "    kernel_initializer=init_weights\n",
        ")\n",
        "conv_4_func = Conv1D(\n",
        "    filters=num_conv_filters, \n",
        "    kernel_size=kernel_size,\n",
        "    name=\"Convolution-4\",\n",
        "    activation=\"relu\",\n",
        "    kernel_initializer=init_weights\n",
        ")\n",
        "conv_5_func = Conv1D(\n",
        "    filters=num_conv_filters, \n",
        "    kernel_size=kernel_size,\n",
        "    name=\"Convolution-5\",\n",
        "    activation=\"relu\",\n",
        "    kernel_initializer=init_weights\n",
        ")\n"
      ],
      "execution_count": null,
      "outputs": []
    },
    {
      "cell_type": "markdown",
      "metadata": {
        "id": "PP22U4tYPzUq"
      },
      "source": [
        "###The four convolution layers defined above will attempt to learn features of the SMILES string (represented as a 97x31 matrix) that are relevant to predicting the solubility. To get a numerical prediction, we now flatten the output of the convolution and pass it to a set of regular Dense layers, the last layer predicting one value for the solubility."
      ]
    },
    {
      "cell_type": "code",
      "metadata": {
        "id": "tioliIwAP_qe"
      },
      "source": [
        "# Define layer to flatten convolutions\n",
        "flatten_func = Flatten(name=\"Flattened-Convolutions\")\n",
        "\n",
        "# Define the activation function layer\n",
        "hidden_size = 64\n",
        "dense_1_func = Dense(hidden_size, activation=\"relu\", name=\"Fully-Connected\", kernel_initializer=init_weights)\n",
        "\n",
        "# Define output layer -- it's only one dimension since it is regression\n",
        "output_size = 1\n",
        "output_solubility_func = Dense(output_size, activation=\"linear\", name=\"Log-Solubility\", kernel_initializer=init_weights)"
      ],
      "execution_count": null,
      "outputs": []
    },
    {
      "cell_type": "markdown",
      "metadata": {
        "id": "vP5nehxjQX-U"
      },
      "source": [
        "######Now that we have defined all the layers, we will connect them together to make a graph:"
      ]
    },
    {
      "cell_type": "code",
      "metadata": {
        "id": "aQXXdWA8QXKH"
      },
      "source": [
        "# connect the CNN graph together\n",
        "conv_1_fwd = conv_1_func(smiles_input)\n",
        "conv_2_fwd = conv_2_func(conv_1_fwd)\n",
        "conv_3_fwd = conv_3_func(conv_2_fwd)\n",
        "conv_4_fwd = conv_4_func(conv_3_fwd)\n",
        "conv_5_fwd = conv_5_func(conv_4_fwd)\n",
        "#conv_6_fwd = conv_6_func(conv_5_fwd)\n",
        "#conv_7_fwd = conv_7_func(conv_6_fwd)\n",
        "flattened_convs = flatten_func(conv_5_fwd)\n",
        "dense_1_fwd = dense_1_func(flattened_convs)\n",
        "output_solubility_fwd = output_solubility_func(flattened_convs)"
      ],
      "execution_count": null,
      "outputs": []
    },
    {
      "cell_type": "markdown",
      "metadata": {
        "id": "Q37_ftO6RXlA"
      },
      "source": [
        "######View model structure and metadata Now the model is ready to train! But first we will define the model as solubility_model and compile it, then view some information on the model using the keras2ascii tool, which visually represents the layers in our model."
      ]
    },
    {
      "cell_type": "code",
      "metadata": {
        "id": "axLFQylnRigf"
      },
      "source": [
        "# create model\n",
        "solubility_model = Model(\n",
        "            inputs=[smiles_input],\n",
        "            outputs=[output_solubility_fwd]\n",
        ")\n",
        "\n",
        "# compile model\n",
        "solubility_model.compile(\n",
        "    optimizer=\"adam\",\n",
        "    loss=\"mse\",\n",
        "    metrics=[\"mae\"]\n",
        ")"
      ],
      "execution_count": null,
      "outputs": []
    },
    {
      "cell_type": "markdown",
      "metadata": {
        "id": "CtMf7preSZXk"
      },
      "source": [
        "#####Train CNN Now we will train our CNN solubility model to the training data! During training, we will see metrics printed after each epoch such as test/train loss (both as Mean Squared Error (MSE) and Mean Absolute Error (MAE))."
      ]
    },
    {
      "cell_type": "code",
      "metadata": {
        "colab": {
          "base_uri": "https://localhost:8080/"
        },
        "id": "LJRA1VdRSetz",
        "outputId": "ac3a0b7c-fb7f-4ff6-c30c-e3868c69a77f"
      },
      "source": [
        "history = solubility_model.fit(\n",
        "    X_train, # Inputs\n",
        "    Y_train, # Outputs\n",
        "    epochs=115, # How many times to pass over the data\n",
        "    batch_size=64, # How many data rows to compute at once\n",
        "    verbose=1,\n",
        "    validation_data=(X_test, Y_test), # You would usually use more splits of the data if you plan to tune hyperparams\n",
        ")"
      ],
      "execution_count": null,
      "outputs": [
        {
          "output_type": "stream",
          "text": [
            "Epoch 1/115\n",
            "17/17 [==============================] - 3s 76ms/step - loss: 7.4329 - mae: 2.1109 - val_loss: 3.1558 - val_mae: 1.3321\n",
            "Epoch 2/115\n",
            "17/17 [==============================] - 1s 63ms/step - loss: 2.5898 - mae: 1.2580 - val_loss: 2.1348 - val_mae: 1.1596\n",
            "Epoch 3/115\n",
            "17/17 [==============================] - 1s 65ms/step - loss: 2.2114 - mae: 1.1508 - val_loss: 1.8171 - val_mae: 1.0488\n",
            "Epoch 4/115\n",
            "17/17 [==============================] - 1s 63ms/step - loss: 1.8797 - mae: 1.0858 - val_loss: 1.9030 - val_mae: 1.0531\n",
            "Epoch 5/115\n",
            "17/17 [==============================] - 1s 63ms/step - loss: 1.3769 - mae: 0.9276 - val_loss: 1.3001 - val_mae: 0.8875\n",
            "Epoch 6/115\n",
            "17/17 [==============================] - 1s 65ms/step - loss: 1.0754 - mae: 0.8251 - val_loss: 1.0252 - val_mae: 0.7995\n",
            "Epoch 7/115\n",
            "17/17 [==============================] - 1s 64ms/step - loss: 0.9484 - mae: 0.7717 - val_loss: 1.3132 - val_mae: 0.9524\n",
            "Epoch 8/115\n",
            "17/17 [==============================] - 1s 64ms/step - loss: 1.3300 - mae: 0.9119 - val_loss: 1.2560 - val_mae: 0.8573\n",
            "Epoch 9/115\n",
            "17/17 [==============================] - 1s 64ms/step - loss: 0.8666 - mae: 0.7292 - val_loss: 0.8474 - val_mae: 0.7069\n",
            "Epoch 10/115\n",
            "17/17 [==============================] - 1s 62ms/step - loss: 0.7829 - mae: 0.7032 - val_loss: 0.7767 - val_mae: 0.6861\n",
            "Epoch 11/115\n",
            "17/17 [==============================] - 1s 62ms/step - loss: 0.7422 - mae: 0.6804 - val_loss: 0.7698 - val_mae: 0.6968\n",
            "Epoch 12/115\n",
            "17/17 [==============================] - 1s 63ms/step - loss: 0.7211 - mae: 0.6661 - val_loss: 0.7581 - val_mae: 0.6839\n",
            "Epoch 13/115\n",
            "17/17 [==============================] - 1s 64ms/step - loss: 0.7016 - mae: 0.6586 - val_loss: 0.7594 - val_mae: 0.6792\n",
            "Epoch 14/115\n",
            "17/17 [==============================] - 1s 63ms/step - loss: 0.6720 - mae: 0.6442 - val_loss: 0.7726 - val_mae: 0.6924\n",
            "Epoch 15/115\n",
            "17/17 [==============================] - 1s 63ms/step - loss: 0.7443 - mae: 0.6813 - val_loss: 0.8033 - val_mae: 0.7179\n",
            "Epoch 16/115\n",
            "17/17 [==============================] - 1s 61ms/step - loss: 0.8560 - mae: 0.7405 - val_loss: 0.8716 - val_mae: 0.7444\n",
            "Epoch 17/115\n",
            "17/17 [==============================] - 1s 61ms/step - loss: 0.6434 - mae: 0.6343 - val_loss: 0.7994 - val_mae: 0.6841\n",
            "Epoch 18/115\n",
            "17/17 [==============================] - 1s 62ms/step - loss: 0.5573 - mae: 0.5880 - val_loss: 0.8301 - val_mae: 0.7162\n",
            "Epoch 19/115\n",
            "17/17 [==============================] - 1s 62ms/step - loss: 0.5739 - mae: 0.5922 - val_loss: 0.6463 - val_mae: 0.6147\n",
            "Epoch 20/115\n",
            "17/17 [==============================] - 1s 61ms/step - loss: 0.5306 - mae: 0.5735 - val_loss: 0.6531 - val_mae: 0.6111\n",
            "Epoch 21/115\n",
            "17/17 [==============================] - 1s 63ms/step - loss: 0.4824 - mae: 0.5412 - val_loss: 0.6615 - val_mae: 0.6349\n",
            "Epoch 22/115\n",
            "17/17 [==============================] - 1s 62ms/step - loss: 0.4762 - mae: 0.5349 - val_loss: 0.6817 - val_mae: 0.6589\n",
            "Epoch 23/115\n",
            "17/17 [==============================] - 1s 64ms/step - loss: 0.4527 - mae: 0.5195 - val_loss: 0.6599 - val_mae: 0.6127\n",
            "Epoch 24/115\n",
            "17/17 [==============================] - 1s 62ms/step - loss: 0.4423 - mae: 0.5210 - val_loss: 0.5916 - val_mae: 0.5861\n",
            "Epoch 25/115\n",
            "17/17 [==============================] - 1s 62ms/step - loss: 0.3882 - mae: 0.4822 - val_loss: 0.6324 - val_mae: 0.6149\n",
            "Epoch 26/115\n",
            "17/17 [==============================] - 1s 63ms/step - loss: 0.3881 - mae: 0.4816 - val_loss: 0.5554 - val_mae: 0.5789\n",
            "Epoch 27/115\n",
            "17/17 [==============================] - 1s 63ms/step - loss: 0.3482 - mae: 0.4579 - val_loss: 0.5383 - val_mae: 0.5628\n",
            "Epoch 28/115\n",
            "17/17 [==============================] - 1s 63ms/step - loss: 0.3269 - mae: 0.4409 - val_loss: 0.5267 - val_mae: 0.5553\n",
            "Epoch 29/115\n",
            "17/17 [==============================] - 1s 61ms/step - loss: 0.3513 - mae: 0.4643 - val_loss: 0.5844 - val_mae: 0.5976\n",
            "Epoch 30/115\n",
            "17/17 [==============================] - 1s 62ms/step - loss: 0.3197 - mae: 0.4399 - val_loss: 0.7145 - val_mae: 0.6703\n",
            "Epoch 31/115\n",
            "17/17 [==============================] - 1s 62ms/step - loss: 0.3179 - mae: 0.4350 - val_loss: 0.5459 - val_mae: 0.5832\n",
            "Epoch 32/115\n",
            "17/17 [==============================] - 1s 63ms/step - loss: 0.2702 - mae: 0.4024 - val_loss: 0.4852 - val_mae: 0.5561\n",
            "Epoch 33/115\n",
            "17/17 [==============================] - 1s 63ms/step - loss: 0.2607 - mae: 0.3914 - val_loss: 0.5253 - val_mae: 0.5545\n",
            "Epoch 34/115\n",
            "17/17 [==============================] - 1s 63ms/step - loss: 0.2532 - mae: 0.3854 - val_loss: 0.5216 - val_mae: 0.5819\n",
            "Epoch 35/115\n",
            "17/17 [==============================] - 1s 63ms/step - loss: 0.2470 - mae: 0.3835 - val_loss: 0.5409 - val_mae: 0.5860\n",
            "Epoch 36/115\n",
            "17/17 [==============================] - 1s 63ms/step - loss: 0.3055 - mae: 0.4294 - val_loss: 0.5307 - val_mae: 0.5525\n",
            "Epoch 37/115\n",
            "17/17 [==============================] - 1s 62ms/step - loss: 0.2618 - mae: 0.3993 - val_loss: 0.5368 - val_mae: 0.5652\n",
            "Epoch 38/115\n",
            "17/17 [==============================] - 1s 63ms/step - loss: 0.2228 - mae: 0.3705 - val_loss: 0.5980 - val_mae: 0.5934\n",
            "Epoch 39/115\n",
            "17/17 [==============================] - 1s 62ms/step - loss: 0.2298 - mae: 0.3700 - val_loss: 0.5374 - val_mae: 0.5663\n",
            "Epoch 40/115\n",
            "17/17 [==============================] - 1s 63ms/step - loss: 0.2094 - mae: 0.3618 - val_loss: 0.4927 - val_mae: 0.5357\n",
            "Epoch 41/115\n",
            "17/17 [==============================] - 1s 62ms/step - loss: 0.1919 - mae: 0.3394 - val_loss: 0.4565 - val_mae: 0.5101\n",
            "Epoch 42/115\n",
            "17/17 [==============================] - 1s 63ms/step - loss: 0.1779 - mae: 0.3299 - val_loss: 0.4818 - val_mae: 0.5448\n",
            "Epoch 43/115\n",
            "17/17 [==============================] - 1s 63ms/step - loss: 0.1669 - mae: 0.3146 - val_loss: 0.5621 - val_mae: 0.5791\n",
            "Epoch 44/115\n",
            "17/17 [==============================] - 1s 62ms/step - loss: 0.1520 - mae: 0.3010 - val_loss: 0.4842 - val_mae: 0.5468\n",
            "Epoch 45/115\n",
            "17/17 [==============================] - 1s 64ms/step - loss: 0.1730 - mae: 0.3248 - val_loss: 0.5093 - val_mae: 0.5539\n",
            "Epoch 46/115\n",
            "17/17 [==============================] - 1s 63ms/step - loss: 0.1687 - mae: 0.3200 - val_loss: 0.5823 - val_mae: 0.5936\n",
            "Epoch 47/115\n",
            "17/17 [==============================] - 1s 63ms/step - loss: 0.1629 - mae: 0.3152 - val_loss: 0.5672 - val_mae: 0.5803\n",
            "Epoch 48/115\n",
            "17/17 [==============================] - 1s 63ms/step - loss: 0.1373 - mae: 0.2870 - val_loss: 0.4764 - val_mae: 0.5286\n",
            "Epoch 49/115\n",
            "17/17 [==============================] - 1s 64ms/step - loss: 0.1224 - mae: 0.2672 - val_loss: 0.5026 - val_mae: 0.5379\n",
            "Epoch 50/115\n",
            "17/17 [==============================] - 1s 64ms/step - loss: 0.1106 - mae: 0.2535 - val_loss: 0.4929 - val_mae: 0.5296\n",
            "Epoch 51/115\n",
            "17/17 [==============================] - 1s 64ms/step - loss: 0.1136 - mae: 0.2604 - val_loss: 0.5091 - val_mae: 0.5446\n",
            "Epoch 52/115\n",
            "17/17 [==============================] - 1s 64ms/step - loss: 0.1031 - mae: 0.2462 - val_loss: 0.5129 - val_mae: 0.5473\n",
            "Epoch 53/115\n",
            "17/17 [==============================] - 1s 63ms/step - loss: 0.1071 - mae: 0.2534 - val_loss: 0.4853 - val_mae: 0.5295\n",
            "Epoch 54/115\n",
            "17/17 [==============================] - 1s 63ms/step - loss: 0.0962 - mae: 0.2391 - val_loss: 0.5433 - val_mae: 0.5585\n",
            "Epoch 55/115\n",
            "17/17 [==============================] - 1s 65ms/step - loss: 0.0963 - mae: 0.2407 - val_loss: 0.5241 - val_mae: 0.5495\n",
            "Epoch 56/115\n",
            "17/17 [==============================] - 1s 62ms/step - loss: 0.0962 - mae: 0.2410 - val_loss: 0.5060 - val_mae: 0.5351\n",
            "Epoch 57/115\n",
            "17/17 [==============================] - 1s 64ms/step - loss: 0.0919 - mae: 0.2317 - val_loss: 0.5078 - val_mae: 0.5384\n",
            "Epoch 58/115\n",
            "17/17 [==============================] - 1s 63ms/step - loss: 0.0949 - mae: 0.2343 - val_loss: 0.7996 - val_mae: 0.7195\n",
            "Epoch 59/115\n",
            "17/17 [==============================] - 1s 64ms/step - loss: 0.3086 - mae: 0.4418 - val_loss: 0.6215 - val_mae: 0.6236\n",
            "Epoch 60/115\n",
            "17/17 [==============================] - 1s 63ms/step - loss: 0.1621 - mae: 0.3137 - val_loss: 0.4980 - val_mae: 0.5439\n",
            "Epoch 61/115\n",
            "17/17 [==============================] - 1s 64ms/step - loss: 0.1431 - mae: 0.2984 - val_loss: 0.5330 - val_mae: 0.5493\n",
            "Epoch 62/115\n",
            "17/17 [==============================] - 1s 63ms/step - loss: 0.1570 - mae: 0.3070 - val_loss: 0.5313 - val_mae: 0.5522\n",
            "Epoch 63/115\n",
            "17/17 [==============================] - 1s 63ms/step - loss: 0.1023 - mae: 0.2460 - val_loss: 0.4761 - val_mae: 0.5242\n",
            "Epoch 64/115\n",
            "17/17 [==============================] - 1s 64ms/step - loss: 0.1029 - mae: 0.2504 - val_loss: 0.5838 - val_mae: 0.5920\n",
            "Epoch 65/115\n",
            "17/17 [==============================] - 1s 64ms/step - loss: 0.1410 - mae: 0.2951 - val_loss: 0.5500 - val_mae: 0.5548\n",
            "Epoch 66/115\n",
            "17/17 [==============================] - 1s 63ms/step - loss: 0.1099 - mae: 0.2582 - val_loss: 0.5353 - val_mae: 0.5505\n",
            "Epoch 67/115\n",
            "17/17 [==============================] - 1s 64ms/step - loss: 0.0877 - mae: 0.2298 - val_loss: 0.4951 - val_mae: 0.5306\n",
            "Epoch 68/115\n",
            "17/17 [==============================] - 1s 64ms/step - loss: 0.0904 - mae: 0.2299 - val_loss: 0.5138 - val_mae: 0.5475\n",
            "Epoch 69/115\n",
            "17/17 [==============================] - 1s 65ms/step - loss: 0.0884 - mae: 0.2303 - val_loss: 0.5513 - val_mae: 0.5531\n",
            "Epoch 70/115\n",
            "17/17 [==============================] - 1s 64ms/step - loss: 0.0909 - mae: 0.2394 - val_loss: 0.5315 - val_mae: 0.5506\n",
            "Epoch 71/115\n",
            "17/17 [==============================] - 1s 63ms/step - loss: 0.0688 - mae: 0.1991 - val_loss: 0.5382 - val_mae: 0.5388\n",
            "Epoch 72/115\n",
            "17/17 [==============================] - 1s 65ms/step - loss: 0.0626 - mae: 0.1915 - val_loss: 0.5219 - val_mae: 0.5465\n",
            "Epoch 73/115\n",
            "17/17 [==============================] - 1s 64ms/step - loss: 0.0693 - mae: 0.2037 - val_loss: 0.5161 - val_mae: 0.5370\n",
            "Epoch 74/115\n",
            "17/17 [==============================] - 1s 64ms/step - loss: 0.0578 - mae: 0.1827 - val_loss: 0.5523 - val_mae: 0.5698\n",
            "Epoch 75/115\n",
            "17/17 [==============================] - 1s 64ms/step - loss: 0.0573 - mae: 0.1817 - val_loss: 0.5298 - val_mae: 0.5397\n",
            "Epoch 76/115\n",
            "17/17 [==============================] - 1s 64ms/step - loss: 0.0509 - mae: 0.1660 - val_loss: 0.4910 - val_mae: 0.5221\n",
            "Epoch 77/115\n",
            "17/17 [==============================] - 1s 64ms/step - loss: 0.0580 - mae: 0.1819 - val_loss: 0.5075 - val_mae: 0.5418\n",
            "Epoch 78/115\n",
            "17/17 [==============================] - 1s 64ms/step - loss: 0.0549 - mae: 0.1759 - val_loss: 0.5389 - val_mae: 0.5607\n",
            "Epoch 79/115\n",
            "17/17 [==============================] - 1s 64ms/step - loss: 0.0592 - mae: 0.1867 - val_loss: 0.5155 - val_mae: 0.5433\n",
            "Epoch 80/115\n",
            "17/17 [==============================] - 1s 63ms/step - loss: 0.0486 - mae: 0.1651 - val_loss: 0.5279 - val_mae: 0.5414\n",
            "Epoch 81/115\n",
            "17/17 [==============================] - 1s 64ms/step - loss: 0.0570 - mae: 0.1810 - val_loss: 0.5066 - val_mae: 0.5315\n",
            "Epoch 82/115\n",
            "17/17 [==============================] - 1s 63ms/step - loss: 0.0670 - mae: 0.1998 - val_loss: 0.5678 - val_mae: 0.5697\n",
            "Epoch 83/115\n",
            "17/17 [==============================] - 1s 65ms/step - loss: 0.0553 - mae: 0.1799 - val_loss: 0.5037 - val_mae: 0.5281\n",
            "Epoch 84/115\n",
            "17/17 [==============================] - 1s 64ms/step - loss: 0.0488 - mae: 0.1644 - val_loss: 0.5740 - val_mae: 0.5753\n",
            "Epoch 85/115\n",
            "17/17 [==============================] - 1s 65ms/step - loss: 0.0603 - mae: 0.1888 - val_loss: 0.5044 - val_mae: 0.5322\n",
            "Epoch 86/115\n",
            "17/17 [==============================] - 1s 64ms/step - loss: 0.0404 - mae: 0.1467 - val_loss: 0.5294 - val_mae: 0.5444\n",
            "Epoch 87/115\n",
            "17/17 [==============================] - 1s 64ms/step - loss: 0.0417 - mae: 0.1524 - val_loss: 0.5256 - val_mae: 0.5398\n",
            "Epoch 88/115\n",
            "17/17 [==============================] - 1s 64ms/step - loss: 0.0428 - mae: 0.1525 - val_loss: 0.5042 - val_mae: 0.5245\n",
            "Epoch 89/115\n",
            "17/17 [==============================] - 1s 65ms/step - loss: 0.0419 - mae: 0.1524 - val_loss: 0.5406 - val_mae: 0.5529\n",
            "Epoch 90/115\n",
            "17/17 [==============================] - 1s 65ms/step - loss: 0.0387 - mae: 0.1440 - val_loss: 0.5306 - val_mae: 0.5448\n",
            "Epoch 91/115\n",
            "17/17 [==============================] - 1s 66ms/step - loss: 0.0328 - mae: 0.1299 - val_loss: 0.5293 - val_mae: 0.5390\n",
            "Epoch 92/115\n",
            "17/17 [==============================] - 1s 65ms/step - loss: 0.0444 - mae: 0.1569 - val_loss: 0.5220 - val_mae: 0.5372\n",
            "Epoch 93/115\n",
            "17/17 [==============================] - 1s 66ms/step - loss: 0.0412 - mae: 0.1500 - val_loss: 0.5445 - val_mae: 0.5577\n",
            "Epoch 94/115\n",
            "17/17 [==============================] - 1s 66ms/step - loss: 0.0526 - mae: 0.1736 - val_loss: 0.5719 - val_mae: 0.5675\n",
            "Epoch 95/115\n",
            "17/17 [==============================] - 1s 65ms/step - loss: 0.0765 - mae: 0.2179 - val_loss: 0.5822 - val_mae: 0.5881\n",
            "Epoch 96/115\n",
            "17/17 [==============================] - 1s 65ms/step - loss: 0.0632 - mae: 0.1925 - val_loss: 0.5415 - val_mae: 0.5549\n",
            "Epoch 97/115\n",
            "17/17 [==============================] - 1s 65ms/step - loss: 0.0574 - mae: 0.1832 - val_loss: 0.5409 - val_mae: 0.5401\n",
            "Epoch 98/115\n",
            "17/17 [==============================] - 1s 65ms/step - loss: 0.0679 - mae: 0.1996 - val_loss: 0.5083 - val_mae: 0.5455\n",
            "Epoch 99/115\n",
            "17/17 [==============================] - 1s 65ms/step - loss: 0.0603 - mae: 0.1883 - val_loss: 0.5633 - val_mae: 0.5675\n",
            "Epoch 100/115\n",
            "17/17 [==============================] - 1s 65ms/step - loss: 0.0512 - mae: 0.1710 - val_loss: 0.5525 - val_mae: 0.5606\n",
            "Epoch 101/115\n",
            "17/17 [==============================] - 1s 64ms/step - loss: 0.0523 - mae: 0.1729 - val_loss: 0.5460 - val_mae: 0.5429\n",
            "Epoch 102/115\n",
            "17/17 [==============================] - 1s 65ms/step - loss: 0.0418 - mae: 0.1546 - val_loss: 0.5691 - val_mae: 0.5611\n",
            "Epoch 103/115\n",
            "17/17 [==============================] - 1s 64ms/step - loss: 0.0376 - mae: 0.1435 - val_loss: 0.5489 - val_mae: 0.5487\n",
            "Epoch 104/115\n",
            "17/17 [==============================] - 1s 65ms/step - loss: 0.0305 - mae: 0.1278 - val_loss: 0.5394 - val_mae: 0.5536\n",
            "Epoch 105/115\n",
            "17/17 [==============================] - 1s 65ms/step - loss: 0.0290 - mae: 0.1206 - val_loss: 0.6303 - val_mae: 0.6127\n",
            "Epoch 106/115\n",
            "17/17 [==============================] - 1s 63ms/step - loss: 0.0418 - mae: 0.1550 - val_loss: 0.5477 - val_mae: 0.5597\n",
            "Epoch 107/115\n",
            "17/17 [==============================] - 1s 64ms/step - loss: 0.0320 - mae: 0.1305 - val_loss: 0.5993 - val_mae: 0.5899\n",
            "Epoch 108/115\n",
            "17/17 [==============================] - 1s 64ms/step - loss: 0.0475 - mae: 0.1646 - val_loss: 0.5829 - val_mae: 0.5666\n",
            "Epoch 109/115\n",
            "17/17 [==============================] - 1s 65ms/step - loss: 0.0425 - mae: 0.1551 - val_loss: 0.5435 - val_mae: 0.5579\n",
            "Epoch 110/115\n",
            "17/17 [==============================] - 1s 65ms/step - loss: 0.0341 - mae: 0.1359 - val_loss: 0.5559 - val_mae: 0.5551\n",
            "Epoch 111/115\n",
            "17/17 [==============================] - 1s 65ms/step - loss: 0.0317 - mae: 0.1320 - val_loss: 0.5823 - val_mae: 0.5788\n",
            "Epoch 112/115\n",
            "17/17 [==============================] - 1s 64ms/step - loss: 0.0291 - mae: 0.1231 - val_loss: 0.5895 - val_mae: 0.5788\n",
            "Epoch 113/115\n",
            "17/17 [==============================] - 1s 65ms/step - loss: 0.0320 - mae: 0.1308 - val_loss: 0.5678 - val_mae: 0.5659\n",
            "Epoch 114/115\n",
            "17/17 [==============================] - 1s 65ms/step - loss: 0.0365 - mae: 0.1433 - val_loss: 0.6356 - val_mae: 0.6095\n",
            "Epoch 115/115\n",
            "17/17 [==============================] - 1s 64ms/step - loss: 0.0459 - mae: 0.1615 - val_loss: 0.5419 - val_mae: 0.5554\n"
          ],
          "name": "stdout"
        }
      ]
    },
    {
      "cell_type": "markdown",
      "metadata": {
        "id": "rTblO5F6V_4T"
      },
      "source": [
        "######Let's view the learning curve for the trained model.\n",
        "\n",
        "This code will generate a plot where we show the test and train errors (MSE) as a function of epoch (one pass of all training examples through the NN).\n",
        "\n",
        "The learning curve will tell us if the model is overfitting or underfitting."
      ]
    },
    {
      "cell_type": "code",
      "metadata": {
        "colab": {
          "base_uri": "https://localhost:8080/",
          "height": 295
        },
        "id": "3xyZonx5V-n1",
        "outputId": "a659d31a-2752-45a6-b5ff-5d7fa103d5fa"
      },
      "source": [
        "# plot the learning curve \n",
        "plt.plot(history.history['loss'])\n",
        "plt.plot(history.history['val_loss'])\n",
        "plt.title('Model accuracy')\n",
        "plt.ylabel('Error')\n",
        "plt.xlabel('Epoch')\n",
        "plt.xlim(0,)\n",
        "plt.legend(['Train', 'Validation',], loc='upper left')\n",
        "plt.show()"
      ],
      "execution_count": null,
      "outputs": [
        {
          "output_type": "display_data",
          "data": {
            "image/png": "[encoded data removed]",
            "text/plain": [
              "<Figure size 432x288 with 1 Axes>"
            ]
          },
          "metadata": {
            "needs_background": "light"
          }
        }
      ]
    },
    {
      "cell_type": "markdown",
      "metadata": {
        "id": "4Q56hP6OWSWG"
      },
      "source": [
        "#####We can now make a parity plot comparing the CNN model predictions to the ground truth data"
      ]
    },
    {
      "cell_type": "code",
      "metadata": {
        "colab": {
          "base_uri": "https://localhost:8080/",
          "height": 313
        },
        "id": "q5vH3SCzWYJo",
        "outputId": "8366d4da-d358-474b-afa7-a3f07d31226c"
      },
      "source": [
        "preds = solubility_model.predict(X_train)\n",
        "x_y_line = np.linspace(min(Y_train.flatten()), max(Y_train.flatten()), 500)\n",
        "plt.plot(Y_train.flatten(), preds.flatten(), 'o', label='predictions')\n",
        "plt.plot(x_y_line, x_y_line, label='y=x')\n",
        "plt.xlabel(\"Log solubility (ground truth)\")\n",
        "plt.ylabel(\"Log solubility (predicted)\")\n",
        "plt.title(\"Parity plot: predictions vs ground truth data\")\n",
        "plt.legend()"
      ],
      "execution_count": null,
      "outputs": [
        {
          "output_type": "execute_result",
          "data": {
            "text/plain": [
              "<matplotlib.legend.Legend at 0x7ff5a7283750>"
            ]
          },
          "metadata": {},
          "execution_count": 18
        },
        {
          "output_type": "display_data",
          "data": {
            "image/png": "[encoded data removed]",
            "text/plain": [
              "<Figure size 432x288 with 1 Axes>"
            ]
          },
          "metadata": {
            "needs_background": "light"
          }
        }
      ]
    },
    {
      "cell_type": "code",
      "metadata": {
        "id": "bI24buInWjh2"
      },
      "source": [
        "### Comparartive prediction of y_test and y_test predicted .....\n",
        "preds=solubility_model.predict(X_test)\n",
        "\n",
        "#print(np.concatenate((Y_test_predited.reshape(len(Y_test_predited),1), Y_test.reshape(len(Y_test),1)),1))"
      ],
      "execution_count": null,
      "outputs": []
    },
    {
      "cell_type": "code",
      "metadata": {
        "colab": {
          "base_uri": "https://localhost:8080/"
        },
        "id": "A8GniNbrZ_7k",
        "outputId": "43a486ee-ffe7-4c52-87bf-71aa4a13a240"
      },
      "source": [
        "from sklearn.metrics import r2_score\n",
        "r2_score(Y_test, preds)"
      ],
      "execution_count": null,
      "outputs": [
        {
          "output_type": "execute_result",
          "data": {
            "text/plain": [
              "0.8858799964906579"
            ]
          },
          "metadata": {},
          "execution_count": 20
        }
      ]
    },
    {
      "cell_type": "code",
      "metadata": {
        "id": "k0JSQ0Bya6-W"
      },
      "source": [
        "####  Saving the model for future use ....\n",
        "\n",
        "# Save the model\n",
        "solubility_model.save(\"/content/drive/MyDrive/solubility_model_8858.hdf5\")\n",
        "\n",
        "\n"
      ],
      "execution_count": null,
      "outputs": []
    },
    {
      "cell_type": "code",
      "metadata": {
        "id": "fxPN9Av_vxrE"
      },
      "source": [
        "# Load it back\n",
        "loaded_model = load_model(\"/content/drive/MyDrive/solubility_model_8858.hdf5\")"
      ],
      "execution_count": null,
      "outputs": []
    },
    {
      "cell_type": "code",
      "metadata": {
        "colab": {
          "base_uri": "https://localhost:8080/"
        },
        "id": "19IoXQ7-v1Of",
        "outputId": "1ce86738-c1c8-40a5-f4f1-7803ed6e9a9c"
      },
      "source": [
        "smilesstr = input(\"Please enter a string to predict solubility\")\n",
        "#example_smiles = [\n",
        " #   'ClC1:C:C:C2:C:C:C:C:C:2:C:1'\n",
        "  #  'N#CC1:C:C:C:C:C:1',\n",
        "  #  '[Na+].[Na+].OCC1=CC(=N/Nc2ccc(c3ccccc23)[S]([O-])(=O)=O)\\C(=O)/C(=N/Nc4ccc(c5ccccc45)[S]([O-])(=O)=O)C1=O'\n",
        "#]\n",
        "\n",
        "#for smiles in example_smiles:\n",
        "predict_test_input = smiles_to_onehots([smilesstr], charset, max_smiles_chars)\n",
        "solubility_prediction = loaded_model.predict(predict_test_input)\n",
        "  # solublilty_prediction =np.array(solubility_prediction)\n",
        "print(f'The predicted log solubility for SMILES {smiles} is {solubility_prediction}')\n",
        "    #print(predict_test_input)\n",
        "    #print(predict_test_input.shape)"
      ],
      "execution_count": null,
      "outputs": [
        {
          "output_type": "stream",
          "text": [
            "Please enter a string to predict solubilityCC(C)=CCCC(C)=CC=O\n",
            "The predicted log solubility for SMILES ClC1:C:C:C2:C:C:C:C:C:2:C:1 is [[-1.973742]]\n"
          ],
          "name": "stdout"
        }
      ]
    },
    {
      "cell_type": "code",
      "metadata": {
        "colab": {
          "base_uri": "https://localhost:8080/",
          "height": 313
        },
        "id": "1CbHpM18mqJ5",
        "outputId": "87d4e585-f593-46cd-c32a-68f80df46809"
      },
      "source": [
        "preds = solubility_model.predict(X_test)\n",
        "x_y_line = np.linspace(min(Y_test.flatten()), max(Y_test.flatten()), 500)\n",
        "plt.plot(Y_test.flatten(), preds.flatten(), 'o', label='predictions')\n",
        "plt.plot(x_y_line, x_y_line, label='y_test')\n",
        "plt.xlabel(\"Log solubility (ground truth)\")\n",
        "plt.ylabel(\"Log solubility (predicted)\")\n",
        "plt.title(\"Parity plot: predictions vs ground truth data\")\n",
        "plt.legend()"
      ],
      "execution_count": null,
      "outputs": [
        {
          "output_type": "execute_result",
          "data": {
            "text/plain": [
              "<matplotlib.legend.Legend at 0x7ff5a0445e90>"
            ]
          },
          "metadata": {},
          "execution_count": 37
        },
        {
          "output_type": "display_data",
          "data": {
            "image/png": "[encoded data removed]",
            "text/plain": [
              "<Figure size 432x288 with 1 Axes>"
            ]
          },
          "metadata": {
            "needs_background": "light"
          }
        }
      ]
    }
  ]
}