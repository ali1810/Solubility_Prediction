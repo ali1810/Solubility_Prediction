{
  "nbformat": 4,
  "nbformat_minor": 0,
  "metadata": {
    "colab": {
      "name": "Solubility_Fingerprints_new.ipynb",
      "provenance": [],
      "collapsed_sections": [],
      "mount_file_id": "1ojfWMzcjnZ_JhTjdlmO7Lcz7bF0hX-Ae",
      "authorship_tag": "ABX9TyNjnvJTD1qADJBO5lGOIYNG",
      "include_colab_link": true
    },
    "kernelspec": {
      "name": "python3",
      "display_name": "Python 3"
    },
    "language_info": {
      "name": "python"
    }
  },
  "cells": [
    {
      "cell_type": "markdown",
      "metadata": {
        "id": "view-in-github",
        "colab_type": "text"
      },
      "source": [
        "<a href=\"https://colab.research.google.com/github/ali1810/Deep_Chem/blob/main/Solubility_Fingerprints_new.ipynb\" target=\"_parent\"><img src=\"https://colab.research.google.com/assets/colab-badge.svg\" alt=\"Open In Colab\"/></a>"
      ]
    },
    {
      "cell_type": "code",
      "metadata": {
        "id": "WtDhZEHpqlZ3"
      },
      "source": [
        "### Installation of condacolab to install rdkit ....\n",
        "!pip install -q condacolab\n",
        "import condacolab\n",
        "condacolab.install()"
      ],
      "execution_count": null,
      "outputs": []
    },
    {
      "cell_type": "code",
      "metadata": {
        "id": "vBtajV7XqhE5"
      },
      "source": [
        "### Installing RDKIT \n",
        "\n",
        "!mamba install -c conda-forge rdkit"
      ],
      "execution_count": null,
      "outputs": []
    },
    {
      "cell_type": "code",
      "metadata": {
        "id": "4olPPSjq037K"
      },
      "source": [
        "import pandas as pd \n",
        "import keras as k\n",
        "from keras.models import Sequential, Model\n",
        "from keras.layers import Activation, BatchNormalization, Input, Dense\n",
        "from keras.layers.core import Dense\n",
        "#from keras.optimizer import Adam, SGD\n",
        "from keras.metrics import categorical_crossentropy\n",
        "from keras import losses\n",
        "from rdkit import Chem, DataStructs\n",
        "from rdkit.Chem import rdMolDescriptors, Draw\n",
        "from rdkit.Chem.Draw import IPythonConsole\n",
        "from rdkit.Chem.Fingerprints import FingerprintMols\n",
        "from sklearn.preprocessing import MinMaxScaler\n",
        "import numpy as np\n",
        "from numpy import argmax\n",
        "from numpy import ndarray\n",
        "import tensorflow as tf\n",
        "import math\n",
        "import re\n",
        "import string\n",
        "from collections import OrderedDict\n",
        "import pandas as pd\n",
        "import csv\n",
        "from collections import defaultdict\n"
      ],
      "execution_count": 3,
      "outputs": []
    },
    {
      "cell_type": "code",
      "metadata": {
        "id": "Pc2l2xAFHMea",
        "colab": {
          "base_uri": "https://localhost:8080/",
          "height": 206
        },
        "outputId": "6a65bd3f-79b3-4770-9963-af8a90c5225d"
      },
      "source": [
        "data=pd.read_csv('/content/drive/MyDrive/KIT/delaney.csv')\n",
        "data.head()"
      ],
      "execution_count": 4,
      "outputs": [
        {
          "output_type": "execute_result",
          "data": {
            "text/html": [
              "<div>\n",
              "<style scoped>\n",
              "    .dataframe tbody tr th:only-of-type {\n",
              "        vertical-align: middle;\n",
              "    }\n",
              "\n",
              "    .dataframe tbody tr th {\n",
              "        vertical-align: top;\n",
              "    }\n",
              "\n",
              "    .dataframe thead th {\n",
              "        text-align: right;\n",
              "    }\n",
              "</style>\n",
              "<table border=\"1\" class=\"dataframe\">\n",
              "  <thead>\n",
              "    <tr style=\"text-align: right;\">\n",
              "      <th></th>\n",
              "      <th>Compound ID</th>\n",
              "      <th>measured log(solubility:mol/L)</th>\n",
              "      <th>ESOL predicted log(solubility:mol/L)</th>\n",
              "      <th>SMILES</th>\n",
              "    </tr>\n",
              "  </thead>\n",
              "  <tbody>\n",
              "    <tr>\n",
              "      <th>0</th>\n",
              "      <td>1,1,1,2-Tetrachloroethane</td>\n",
              "      <td>-2.18</td>\n",
              "      <td>-2.794</td>\n",
              "      <td>ClCC(Cl)(Cl)Cl</td>\n",
              "    </tr>\n",
              "    <tr>\n",
              "      <th>1</th>\n",
              "      <td>1,1,1-Trichloroethane</td>\n",
              "      <td>-2.00</td>\n",
              "      <td>-2.232</td>\n",
              "      <td>CC(Cl)(Cl)Cl</td>\n",
              "    </tr>\n",
              "    <tr>\n",
              "      <th>2</th>\n",
              "      <td>1,1,2,2-Tetrachloroethane</td>\n",
              "      <td>-1.74</td>\n",
              "      <td>-2.549</td>\n",
              "      <td>ClC(Cl)C(Cl)Cl</td>\n",
              "    </tr>\n",
              "    <tr>\n",
              "      <th>3</th>\n",
              "      <td>1,1,2-Trichloroethane</td>\n",
              "      <td>-1.48</td>\n",
              "      <td>-1.961</td>\n",
              "      <td>ClCC(Cl)Cl</td>\n",
              "    </tr>\n",
              "    <tr>\n",
              "      <th>4</th>\n",
              "      <td>1,1,2-Trichlorotrifluoroethane</td>\n",
              "      <td>-3.04</td>\n",
              "      <td>-3.077</td>\n",
              "      <td>FC(F)(Cl)C(F)(Cl)Cl</td>\n",
              "    </tr>\n",
              "  </tbody>\n",
              "</table>\n",
              "</div>"
            ],
            "text/plain": [
              "                      Compound ID  ...               SMILES\n",
              "0       1,1,1,2-Tetrachloroethane  ...       ClCC(Cl)(Cl)Cl\n",
              "1           1,1,1-Trichloroethane  ...         CC(Cl)(Cl)Cl\n",
              "2       1,1,2,2-Tetrachloroethane  ...       ClC(Cl)C(Cl)Cl\n",
              "3           1,1,2-Trichloroethane  ...           ClCC(Cl)Cl\n",
              "4  1,1,2-Trichlorotrifluoroethane  ...  FC(F)(Cl)C(F)(Cl)Cl\n",
              "\n",
              "[5 rows x 4 columns]"
            ]
          },
          "metadata": {},
          "execution_count": 4
        }
      ]
    },
    {
      "cell_type": "code",
      "metadata": {
        "id": "KBneEw7HIBSy"
      },
      "source": [
        "smiles_array=data.SMILES"
      ],
      "execution_count": 5,
      "outputs": []
    },
    {
      "cell_type": "code",
      "metadata": {
        "id": "gndzr1ZlXO_U"
      },
      "source": [
        "data[\"smiles_length\"]= data[\"SMILES\"].apply(len)"
      ],
      "execution_count": 6,
      "outputs": []
    },
    {
      "cell_type": "code",
      "metadata": {
        "id": "0ktXa3THIHua"
      },
      "source": [
        "solubility_array= data.iloc[:,2]\n",
        "#print(solubility_array)"
      ],
      "execution_count": 9,
      "outputs": []
    },
    {
      "cell_type": "code",
      "metadata": {
        "colab": {
          "base_uri": "https://localhost:8080/"
        },
        "id": "swLSgbS4IM7C",
        "outputId": "80d8c5b8-67ff-439e-db13-fd14857074a4"
      },
      "source": [
        "print(len(smiles_array))\n",
        "print(len(solubility_array))"
      ],
      "execution_count": 10,
      "outputs": [
        {
          "output_type": "stream",
          "name": "stdout",
          "text": [
            "1144\n",
            "1144\n"
          ]
        }
      ]
    },
    {
      "cell_type": "code",
      "metadata": {
        "id": "ACHt7uGtIk0i"
      },
      "source": [
        "#Turning SMILES into Explicit Bit Vectors (RDKit prefered format)\n",
        "mols = [Chem.rdmolfiles.MolFromSmiles(SMILES_string) for SMILES_string in smiles_array]\n",
        "\n",
        "\n",
        "#Convert training molecules into training fingerprints\n",
        "bi = {}\n",
        "fingerprints = [Chem.rdMolDescriptors.GetMorganFingerprintAsBitVect(m, radius=2, bitInfo= bi, nBits=512) for m in mols]\n",
        "\n"
      ],
      "execution_count": 11,
      "outputs": []
    },
    {
      "cell_type": "code",
      "metadata": {
        "id": "DeFfw-U8JBBr"
      },
      "source": [
        "#Convert training fingerprints into binary, and put all training binaries into arrays\n",
        "import numpy as np \n",
        "\n",
        "fingerprints_array = []\n",
        "for fingerprint in fingerprints:\n",
        "        array = np.zeros((1,), dtype= int)\n",
        "        DataStructs.ConvertToNumpyArray(fingerprint, array)\n",
        "        fingerprints_array.append(array)"
      ],
      "execution_count": 12,
      "outputs": []
    },
    {
      "cell_type": "code",
      "metadata": {
        "id": "53S1NZF1QRBR"
      },
      "source": [
        "fingerprints_array =np.array(fingerprints_array)\n",
        "solubility_array =np.array(solubility_array)"
      ],
      "execution_count": 15,
      "outputs": []
    },
    {
      "cell_type": "code",
      "metadata": {
        "colab": {
          "base_uri": "https://localhost:8080/"
        },
        "id": "-Xm0tqZKJK2M",
        "outputId": "1dccea89-80be-40c3-c941-ea60efeb7cff"
      },
      "source": [
        "print(len(fingerprints_array))\n",
        "print(len(solubility_array))\n",
        "print(fingerprints_array.shape)\n",
        "print(solubility_array.shape)"
      ],
      "execution_count": 16,
      "outputs": [
        {
          "output_type": "stream",
          "name": "stdout",
          "text": [
            "1144\n",
            "1144\n",
            "(1144, 512)\n",
            "(1144,)\n"
          ]
        }
      ]
    },
    {
      "cell_type": "code",
      "metadata": {
        "id": "G1WtztOSQS5-"
      },
      "source": [
        "### Write a function to calculate these values....\n",
        "\n",
        "def getAromaticProportion(m):\n",
        "    aromatic_list = [m.GetAtomWithIdx(i).GetIsAromatic() for i in range(m.GetNumAtoms())]\n",
        "    aromatic = 0\n",
        "    for i in aromatic_list:\n",
        "        if i:\n",
        "            aromatic += 1\n",
        "    heavy_atom = Lipinski.HeavyAtomCount(m)\n",
        "    return aromatic / heavy_atom\n",
        "\n",
        "\n",
        "def generate(smiles):\n",
        "    moldata = []\n",
        "    for elem in smiles:\n",
        "        mol = Chem.MolFromSmiles(elem)\n",
        "        moldata.append(mol)\n",
        "\n",
        "    baseData = np.arange(1, 1)\n",
        "    i = 0\n",
        "    for mol in moldata:\n",
        "\n",
        "        desc_MolLogP = Crippen.MolLogP(mol)\n",
        "        desc_MolWt = Descriptors.MolWt(mol)\n",
        "        desc_NumRotatableBonds = Lipinski.NumRotatableBonds(mol)\n",
        "        desc_AromaticProportion = getAromaticProportion(mol)\n",
        "        desc_Ringcount        =   Descriptors.RingCount(mol)\n",
        "        desc_TPSA = Descriptors.TPSA(mol)\n",
        "        desc_Hdonrs=Lipinski.NumHDonors(mol)\n",
        "        desc_SaturatedRings = Lipinski.NumSaturatedRings(mol)   \n",
        "        desc_AliphaticRings = Lipinski.NumAliphaticRings(mol) \n",
        "        desc_HAcceptors = Lipinski.NumHAcceptors(mol)\n",
        "        desc_Heteroatoms = Lipinski.NumHeteroatoms(mol)\n",
        "        #desc_molMR=Descriptors.MolMR(mol)\n",
        "        row = np.array([desc_MolLogP,\n",
        "                        desc_MolWt,\n",
        "                        desc_NumRotatableBonds,\n",
        "                        desc_AromaticProportion,desc_Ringcount,desc_TPSA,desc_Hdonrs,desc_SaturatedRings,desc_AliphaticRings,desc_HAcceptors,desc_Heteroatoms])\n",
        "\n",
        "        if i == 0:\n",
        "            baseData = row\n",
        "        else:\n",
        "            baseData = np.vstack([baseData, row])\n",
        "        i = i + 1\n",
        "\n",
        "    columnNames = [\"MolLogP\", \"MolWt\", \"NumRotatableBonds\", \"AromaticProportion\",\"Ring_Count\",\"TPSA\",\"H_donors\",\"Saturated_Rings\",\"AliphaticRings\",\"H_Acceptors\",\"Heteroatoms\"]\n",
        "    descriptors = pd.DataFrame(data=baseData, columns=columnNames)\n",
        "\n",
        "    return descriptors\n"
      ],
      "execution_count": 17,
      "outputs": []
    },
    {
      "cell_type": "code",
      "metadata": {
        "id": "AOacIpWHQzIP"
      },
      "source": [
        "import numpy as np\n",
        "from rdkit.Chem import Descriptors\n",
        "from rdkit.Chem import Lipinski\n",
        "from rdkit.Chem import Crippen"
      ],
      "execution_count": 18,
      "outputs": []
    },
    {
      "cell_type": "code",
      "metadata": {
        "colab": {
          "base_uri": "https://localhost:8080/"
        },
        "id": "Ujf2RS7_QOCL",
        "outputId": "18bc10da-ac83-4512-ae87-a280fd6aaad5"
      },
      "source": [
        "descriptors =generate(data.SMILES)\n",
        "print(descriptors)"
      ],
      "execution_count": 19,
      "outputs": [
        {
          "output_type": "stream",
          "name": "stdout",
          "text": [
            "      MolLogP    MolWt  ...  H_Acceptors  Heteroatoms\n",
            "0     2.59540  167.850  ...          0.0          4.0\n",
            "1     2.37650  133.405  ...          0.0          3.0\n",
            "2     2.59380  167.850  ...          0.0          4.0\n",
            "3     2.02890  133.405  ...          0.0          3.0\n",
            "4     2.91890  187.375  ...          0.0          6.0\n",
            "...       ...      ...  ...          ...          ...\n",
            "1139  1.98820  287.343  ...          6.0          8.0\n",
            "1140  3.42130  286.114  ...          3.0          6.0\n",
            "1141  3.60960  308.333  ...          4.0          4.0\n",
            "1142  2.56214  354.815  ...          4.0          8.0\n",
            "1143  2.02164  179.219  ...          2.0          3.0\n",
            "\n",
            "[1144 rows x 11 columns]\n"
          ]
        }
      ]
    },
    {
      "cell_type": "code",
      "metadata": {
        "id": "iyEJ4fnHRUc5"
      },
      "source": [
        "import numpy as np \n",
        "df1=np.array(descriptors)\n",
        "\n",
        "#df_new=fingerprints_array.join(df1)"
      ],
      "execution_count": 20,
      "outputs": []
    },
    {
      "cell_type": "code",
      "metadata": {
        "id": "LaYtt-8VJ1DI",
        "colab": {
          "base_uri": "https://localhost:8080/"
        },
        "outputId": "584d7127-1342-43fe-de84-8a443537e0f9"
      },
      "source": [
        "df1.shape\n",
        "fingerprints_array.shape"
      ],
      "execution_count": 21,
      "outputs": [
        {
          "output_type": "execute_result",
          "data": {
            "text/plain": [
              "(1144, 512)"
            ]
          },
          "metadata": {},
          "execution_count": 21
        }
      ]
    },
    {
      "cell_type": "code",
      "metadata": {
        "colab": {
          "base_uri": "https://localhost:8080/"
        },
        "id": "yIv3BcZiTmgo",
        "outputId": "088eb755-7759-4064-c697-2b1e0a9773f7"
      },
      "source": [
        "### Adding two numpy array with column wise .....to add 11 descriptors along with finger prints \n",
        "df_new = np.append(fingerprints_array, df1, axis = 1)\n",
        "df_new.shape"
      ],
      "execution_count": 22,
      "outputs": [
        {
          "output_type": "execute_result",
          "data": {
            "text/plain": [
              "(1144, 523)"
            ]
          },
          "metadata": {},
          "execution_count": 22
        }
      ]
    },
    {
      "cell_type": "code",
      "metadata": {
        "id": "cWFdRp5_Jig2"
      },
      "source": [
        "from sklearn.model_selection import train_test_split"
      ],
      "execution_count": 23,
      "outputs": []
    },
    {
      "cell_type": "code",
      "metadata": {
        "id": "ZO0_iEVhJt7L"
      },
      "source": [
        "X_train, X_test, y_train, y_test = train_test_split(df_new, solubility_array, test_size = 0.2)"
      ],
      "execution_count": 24,
      "outputs": []
    },
    {
      "cell_type": "code",
      "metadata": {
        "id": "wKu3T88TaOXc"
      },
      "source": [
        "#print(X_train[0])"
      ],
      "execution_count": 74,
      "outputs": []
    },
    {
      "cell_type": "code",
      "metadata": {
        "id": "2CWMjOhCTT8C"
      },
      "source": [
        "### Making data as standard Scaler ....\n",
        "from sklearn.preprocessing import StandardScaler\n",
        "sc = StandardScaler()\n",
        "X_train = sc.fit_transform(X_train)\n",
        "X_test = sc.transform(X_test)\n"
      ],
      "execution_count": 26,
      "outputs": []
    },
    {
      "cell_type": "code",
      "metadata": {
        "id": "ZjPEVKuhy6YZ"
      },
      "source": [
        "#### Applying different Machine learning and Deep learning techique to know which works best ....\n",
        "from sklearn.svm import SVR\n",
        "from sklearn.ensemble import RandomForestRegressor\n",
        "from xgboost import XGBRegressor\n",
        "from sklearn.metrics import mean_squared_error, r2_score\n",
        "\n"
      ],
      "execution_count": 28,
      "outputs": []
    },
    {
      "cell_type": "code",
      "metadata": {
        "colab": {
          "base_uri": "https://localhost:8080/"
        },
        "id": "eUy_GThbzzMr",
        "outputId": "3fc2de53-c56d-434f-933e-aa415e574eb7"
      },
      "source": [
        "model_svr=SVR(kernel='rbf')\n",
        "model_svr.fit(X_train, y_train)"
      ],
      "execution_count": 29,
      "outputs": [
        {
          "output_type": "execute_result",
          "data": {
            "text/plain": [
              "SVR(C=1.0, cache_size=200, coef0=0.0, degree=3, epsilon=0.1, gamma='scale',\n",
              "    kernel='rbf', max_iter=-1, shrinking=True, tol=0.001, verbose=False)"
            ]
          },
          "metadata": {},
          "execution_count": 29
        }
      ]
    },
    {
      "cell_type": "code",
      "metadata": {
        "colab": {
          "base_uri": "https://localhost:8080/"
        },
        "id": "5RWazIyVzzC5",
        "outputId": "0b8b1dbf-6a94-4f02-d24c-7087ee78d535"
      },
      "source": [
        "model_rf = RandomForestRegressor(n_estimators = 10000, random_state = 0)\n",
        "model_rf.fit(X_train, y_train)"
      ],
      "execution_count": 32,
      "outputs": [
        {
          "output_type": "execute_result",
          "data": {
            "text/plain": [
              "RandomForestRegressor(bootstrap=True, ccp_alpha=0.0, criterion='mse',\n",
              "                      max_depth=None, max_features='auto', max_leaf_nodes=None,\n",
              "                      max_samples=None, min_impurity_decrease=0.0,\n",
              "                      min_impurity_split=None, min_samples_leaf=1,\n",
              "                      min_samples_split=2, min_weight_fraction_leaf=0.0,\n",
              "                      n_estimators=10000, n_jobs=None, oob_score=False,\n",
              "                      random_state=0, verbose=0, warm_start=False)"
            ]
          },
          "metadata": {},
          "execution_count": 32
        }
      ]
    },
    {
      "cell_type": "code",
      "metadata": {
        "colab": {
          "base_uri": "https://localhost:8080/"
        },
        "id": "l5KfX1vqzywA",
        "outputId": "c3d48e13-f785-49ab-d895-84c6f7f503a5"
      },
      "source": [
        "model_xgr = XGBRegressor(n_estimators = 10000, random_state = 0)\n",
        "model_xgr.fit(X_train, y_train)\n"
      ],
      "execution_count": 33,
      "outputs": [
        {
          "output_type": "stream",
          "name": "stdout",
          "text": [
            "[09:41:16] WARNING: /workspace/src/objective/regression_obj.cu:152: reg:linear is now deprecated in favor of reg:squarederror.\n"
          ]
        },
        {
          "output_type": "execute_result",
          "data": {
            "text/plain": [
              "XGBRegressor(base_score=0.5, booster='gbtree', colsample_bylevel=1,\n",
              "             colsample_bynode=1, colsample_bytree=1, gamma=0,\n",
              "             importance_type='gain', learning_rate=0.1, max_delta_step=0,\n",
              "             max_depth=3, min_child_weight=1, missing=None, n_estimators=10000,\n",
              "             n_jobs=1, nthread=None, objective='reg:linear', random_state=0,\n",
              "             reg_alpha=0, reg_lambda=1, scale_pos_weight=1, seed=None,\n",
              "             silent=None, subsample=1, verbosity=1)"
            ]
          },
          "metadata": {},
          "execution_count": 33
        }
      ]
    },
    {
      "cell_type": "code",
      "metadata": {
        "colab": {
          "base_uri": "https://localhost:8080/",
          "height": 314
        },
        "id": "SsUbYPz50XrW",
        "outputId": "21c7f850-b497-49a8-9aab-5cee423359c5"
      },
      "source": [
        "import matplotlib.pyplot as plt\n",
        "preds = model_rf.predict(X_train)\n",
        "x_y_line = np.linspace(min(y_train.flatten()), max(y_train.flatten()), 500)\n",
        "plt.plot(y_train.flatten(), preds.flatten(), 'o', label='predictions')\n",
        "plt.plot(x_y_line, x_y_line, label='y=x')\n",
        "plt.xlabel(\"Log solubility (ground truth)\")\n",
        "plt.ylabel(\"Log solubility (predicted)\")\n",
        "plt.title(\"Parity plot: predictions vs ground truth data\")\n",
        "plt.legend()"
      ],
      "execution_count": 34,
      "outputs": [
        {
          "output_type": "execute_result",
          "data": {
            "text/plain": [
              "<matplotlib.legend.Legend at 0x7f22eb2b9450>"
            ]
          },
          "metadata": {},
          "execution_count": 34
        },
        {
          "output_type": "display_data",
          "data": {
            "image/png": "[encoded data removed]",
            "text/plain": [
              "<Figure size 432x288 with 1 Axes>"
            ]
          },
          "metadata": {
            "needs_background": "light"
          }
        }
      ]
    },
    {
      "cell_type": "code",
      "metadata": {
        "id": "Lx1eIUcp0rDM"
      },
      "source": [
        "Y_pred_test_rf = model_rf.predict(X_test)\n",
        "res = \"\\n\".join(\"{} {}\".format(x, y) for x, y in zip(y_test,Y_pred_test_rf ))\n",
        "#print(res)"
      ],
      "execution_count": 35,
      "outputs": []
    },
    {
      "cell_type": "code",
      "metadata": {
        "colab": {
          "base_uri": "https://localhost:8080/"
        },
        "id": "_xPRaVmV015K",
        "outputId": "1feb4316-eb5e-402f-c5ba-633a02e72035"
      },
      "source": [
        "from sklearn.metrics import r2_score\n",
        "r2_score(y_test, Y_pred_test_rf)"
      ],
      "execution_count": 36,
      "outputs": [
        {
          "output_type": "execute_result",
          "data": {
            "text/plain": [
              "0.9575759136375066"
            ]
          },
          "metadata": {},
          "execution_count": 36
        }
      ]
    },
    {
      "cell_type": "code",
      "metadata": {
        "id": "o62XbAdf1Ard"
      },
      "source": [
        "Y_pred_test_xg = model_xgr.predict(X_test)\n",
        "res = \"\\n\".join(\"{} {}\".format(x, y) for x, y in zip(y_test,Y_pred_test_rf ))\n",
        "#print(res)"
      ],
      "execution_count": 66,
      "outputs": []
    },
    {
      "cell_type": "code",
      "metadata": {
        "colab": {
          "base_uri": "https://localhost:8080/"
        },
        "id": "OcoGGm671Mg6",
        "outputId": "b9a1915a-446f-46bd-a435-7e60c0b1dc11"
      },
      "source": [
        "from sklearn.metrics import r2_score\n",
        "r2_score(y_test, Y_pred_test_xg)"
      ],
      "execution_count": 38,
      "outputs": [
        {
          "output_type": "execute_result",
          "data": {
            "text/plain": [
              "0.9683027311311222"
            ]
          },
          "metadata": {},
          "execution_count": 38
        }
      ]
    },
    {
      "cell_type": "code",
      "metadata": {
        "id": "38_ZJG9_2U-P"
      },
      "source": [
        "Y_pred_test_sv = model_svr.predict(X_test)\n",
        "res = \"\\n\".join(\"{} {}\".format(x, y) for x, y in zip(y_test,Y_pred_test_rf ))\n",
        "#print(res)"
      ],
      "execution_count": 39,
      "outputs": []
    },
    {
      "cell_type": "code",
      "metadata": {
        "colab": {
          "base_uri": "https://localhost:8080/"
        },
        "id": "nBM9n-Jo2iRc",
        "outputId": "e8a980cd-6c30-403c-c2a3-8b9970ce3a92"
      },
      "source": [
        "from sklearn.metrics import r2_score\n",
        "r2_score(y_test, Y_pred_test_sv)"
      ],
      "execution_count": 40,
      "outputs": [
        {
          "output_type": "execute_result",
          "data": {
            "text/plain": [
              "0.7413327698742944"
            ]
          },
          "metadata": {},
          "execution_count": 40
        }
      ]
    },
    {
      "cell_type": "code",
      "metadata": {
        "colab": {
          "base_uri": "https://localhost:8080/",
          "height": 314
        },
        "id": "LK2nZmzE3NIN",
        "outputId": "852919db-9442-40ec-ddf3-d041febd2d3a"
      },
      "source": [
        "import matplotlib.pyplot as plt\n",
        "preds = model_xgr.predict(X_test)\n",
        "x_y_line = np.linspace(min(y_test.flatten()), max(y_test.flatten()), 500)\n",
        "plt.plot(y_test.flatten(), preds.flatten(), 'o', label='predictions')\n",
        "plt.plot(x_y_line, x_y_line, label='y_test')\n",
        "plt.xlabel(\"Log solubility (ground truth)\")\n",
        "plt.ylabel(\"Log solubility (predicted)\")\n",
        "plt.title(\"Parity plot: predictions vs ground truth data\")\n",
        "plt.legend()"
      ],
      "execution_count": 42,
      "outputs": [
        {
          "output_type": "execute_result",
          "data": {
            "text/plain": [
              "<matplotlib.legend.Legend at 0x7f22eb00ac90>"
            ]
          },
          "metadata": {},
          "execution_count": 42
        },
        {
          "output_type": "display_data",
          "data": {
            "image/png": "[encoded data removed]",
            "text/plain": [
              "<Figure size 432x288 with 1 Axes>"
            ]
          },
          "metadata": {
            "needs_background": "light"
          }
        }
      ]
    },
    {
      "cell_type": "code",
      "metadata": {
        "id": "_0cKxo3pi2mk"
      },
      "source": [
        ""
      ],
      "execution_count": null,
      "outputs": []
    },
    {
      "cell_type": "code",
      "metadata": {
        "id": "lwz0GK-Y8OX5"
      },
      "source": [
        "# Initialising the ANN\n",
        "model = Sequential()\n",
        "\n",
        "# Adding the input layer and the first hidden layer\n",
        "model.add(Dense(523, activation = 'relu', input_dim = 523))\n",
        "\n",
        "# Adding the second hidden layer\n",
        "model.add(Dense(units = 256, activation = 'relu'))\n",
        "\n",
        "# Adding the third hidden layer\n",
        "model.add(Dense(units = 128, activation = 'relu'))\n",
        "\n",
        "# Adding the fourth hidden layer\n",
        "model.add(Dense(units = 64, activation = 'relu'))\n",
        "\n",
        "# Adding the fourth hidden layer\n",
        "model.add(Dense(units = 32, activation = 'relu'))\n",
        "\n",
        "# Adding the fourth hidden layer\n",
        "model.add(Dense(units = 16, activation = 'relu'))\n",
        "\n",
        "# Adding the fourth hidden layer\n",
        "model.add(Dense(units = 8, activation = 'relu'))\n",
        "\n",
        "\n",
        "# Adding the output layer\n",
        "model.add(Dense(units = 1))"
      ],
      "execution_count": 68,
      "outputs": []
    },
    {
      "cell_type": "code",
      "metadata": {
        "id": "oTbGM6EP8YYY"
      },
      "source": [
        "model.compile(optimizer = 'adam', loss = 'mean_squared_error')"
      ],
      "execution_count": 69,
      "outputs": []
    },
    {
      "cell_type": "code",
      "metadata": {
        "colab": {
          "base_uri": "https://localhost:8080/"
        },
        "id": "AwNkWAaZ8dxW",
        "outputId": "f4d55186-86a3-4ce1-80b8-6385f684e77b"
      },
      "source": [
        "model.fit(X_train, y_train, batch_size = 10, epochs = 400)"
      ],
      "execution_count": 70,
      "outputs": [
        {
          "output_type": "stream",
          "name": "stdout",
          "text": [
            "Epoch 1/400\n",
            "92/92 [==============================] - 1s 4ms/step - loss: 1.6637\n",
            "Epoch 2/400\n",
            "92/92 [==============================] - 0s 4ms/step - loss: 0.4535\n",
            "Epoch 3/400\n",
            "92/92 [==============================] - 0s 4ms/step - loss: 0.2921\n",
            "Epoch 4/400\n",
            "92/92 [==============================] - 0s 5ms/step - loss: 0.1764\n",
            "Epoch 5/400\n",
            "92/92 [==============================] - 0s 4ms/step - loss: 0.1218\n",
            "Epoch 6/400\n",
            "92/92 [==============================] - 0s 5ms/step - loss: 0.0808\n",
            "Epoch 7/400\n",
            "92/92 [==============================] - 0s 4ms/step - loss: 0.0646\n",
            "Epoch 8/400\n",
            "92/92 [==============================] - 0s 4ms/step - loss: 0.0637\n",
            "Epoch 9/400\n",
            "92/92 [==============================] - 0s 4ms/step - loss: 0.0666\n",
            "Epoch 10/400\n",
            "92/92 [==============================] - 0s 4ms/step - loss: 0.0706\n",
            "Epoch 11/400\n",
            "92/92 [==============================] - 0s 5ms/step - loss: 0.0997\n",
            "Epoch 12/400\n",
            "92/92 [==============================] - 0s 4ms/step - loss: 0.0877\n",
            "Epoch 13/400\n",
            "92/92 [==============================] - 0s 4ms/step - loss: 0.0818\n",
            "Epoch 14/400\n",
            "92/92 [==============================] - 0s 5ms/step - loss: 0.0829\n",
            "Epoch 15/400\n",
            "92/92 [==============================] - 0s 4ms/step - loss: 0.0752\n",
            "Epoch 16/400\n",
            "92/92 [==============================] - 0s 4ms/step - loss: 0.0699\n",
            "Epoch 17/400\n",
            "92/92 [==============================] - 0s 5ms/step - loss: 0.0655\n",
            "Epoch 18/400\n",
            "92/92 [==============================] - 0s 4ms/step - loss: 0.0578\n",
            "Epoch 19/400\n",
            "92/92 [==============================] - 0s 4ms/step - loss: 0.0583\n",
            "Epoch 20/400\n",
            "92/92 [==============================] - 0s 4ms/step - loss: 0.0514\n",
            "Epoch 21/400\n",
            "92/92 [==============================] - 0s 4ms/step - loss: 0.0648\n",
            "Epoch 22/400\n",
            "92/92 [==============================] - 0s 4ms/step - loss: 0.0640\n",
            "Epoch 23/400\n",
            "92/92 [==============================] - 0s 4ms/step - loss: 0.0734\n",
            "Epoch 24/400\n",
            "92/92 [==============================] - 0s 4ms/step - loss: 0.0760\n",
            "Epoch 25/400\n",
            "92/92 [==============================] - 0s 4ms/step - loss: 0.1316\n",
            "Epoch 26/400\n",
            "92/92 [==============================] - 0s 4ms/step - loss: 0.0973\n",
            "Epoch 27/400\n",
            "92/92 [==============================] - 0s 4ms/step - loss: 0.0486\n",
            "Epoch 28/400\n",
            "92/92 [==============================] - 0s 4ms/step - loss: 0.0293\n",
            "Epoch 29/400\n",
            "92/92 [==============================] - 0s 4ms/step - loss: 0.0245\n",
            "Epoch 30/400\n",
            "92/92 [==============================] - 0s 5ms/step - loss: 0.0182\n",
            "Epoch 31/400\n",
            "92/92 [==============================] - 0s 4ms/step - loss: 0.0136\n",
            "Epoch 32/400\n",
            "92/92 [==============================] - 0s 4ms/step - loss: 0.0153\n",
            "Epoch 33/400\n",
            "92/92 [==============================] - 0s 4ms/step - loss: 0.0174\n",
            "Epoch 34/400\n",
            "92/92 [==============================] - 0s 4ms/step - loss: 0.0211\n",
            "Epoch 35/400\n",
            "92/92 [==============================] - 0s 4ms/step - loss: 0.0340\n",
            "Epoch 36/400\n",
            "92/92 [==============================] - 0s 4ms/step - loss: 0.0388\n",
            "Epoch 37/400\n",
            "92/92 [==============================] - 0s 4ms/step - loss: 0.0736\n",
            "Epoch 38/400\n",
            "92/92 [==============================] - 0s 4ms/step - loss: 0.0787\n",
            "Epoch 39/400\n",
            "92/92 [==============================] - 0s 5ms/step - loss: 0.0575\n",
            "Epoch 40/400\n",
            "92/92 [==============================] - 0s 4ms/step - loss: 0.0491\n",
            "Epoch 41/400\n",
            "92/92 [==============================] - 0s 4ms/step - loss: 0.0335\n",
            "Epoch 42/400\n",
            "92/92 [==============================] - 0s 4ms/step - loss: 0.0741\n",
            "Epoch 43/400\n",
            "92/92 [==============================] - 0s 5ms/step - loss: 0.0774\n",
            "Epoch 44/400\n",
            "92/92 [==============================] - 0s 4ms/step - loss: 0.0399\n",
            "Epoch 45/400\n",
            "92/92 [==============================] - 0s 5ms/step - loss: 0.0568\n",
            "Epoch 46/400\n",
            "92/92 [==============================] - 0s 5ms/step - loss: 0.0400\n",
            "Epoch 47/400\n",
            "92/92 [==============================] - 0s 4ms/step - loss: 0.0282\n",
            "Epoch 48/400\n",
            "92/92 [==============================] - 0s 5ms/step - loss: 0.0202\n",
            "Epoch 49/400\n",
            "92/92 [==============================] - 0s 4ms/step - loss: 0.0134\n",
            "Epoch 50/400\n",
            "92/92 [==============================] - 0s 5ms/step - loss: 0.0087\n",
            "Epoch 51/400\n",
            "92/92 [==============================] - 0s 5ms/step - loss: 0.0077\n",
            "Epoch 52/400\n",
            "92/92 [==============================] - 0s 4ms/step - loss: 0.0103\n",
            "Epoch 53/400\n",
            "92/92 [==============================] - 0s 5ms/step - loss: 0.0100\n",
            "Epoch 54/400\n",
            "92/92 [==============================] - 0s 4ms/step - loss: 0.0103\n",
            "Epoch 55/400\n",
            "92/92 [==============================] - 0s 4ms/step - loss: 0.0092\n",
            "Epoch 56/400\n",
            "92/92 [==============================] - 0s 5ms/step - loss: 0.0117\n",
            "Epoch 57/400\n",
            "92/92 [==============================] - 0s 4ms/step - loss: 0.0197\n",
            "Epoch 58/400\n",
            "92/92 [==============================] - 0s 4ms/step - loss: 0.0282\n",
            "Epoch 59/400\n",
            "92/92 [==============================] - 0s 4ms/step - loss: 0.0303\n",
            "Epoch 60/400\n",
            "92/92 [==============================] - 0s 4ms/step - loss: 0.0388\n",
            "Epoch 61/400\n",
            "92/92 [==============================] - 0s 4ms/step - loss: 0.0524\n",
            "Epoch 62/400\n",
            "92/92 [==============================] - 0s 4ms/step - loss: 0.0365\n",
            "Epoch 63/400\n",
            "92/92 [==============================] - 0s 4ms/step - loss: 0.0339\n",
            "Epoch 64/400\n",
            "92/92 [==============================] - 0s 4ms/step - loss: 0.0347\n",
            "Epoch 65/400\n",
            "92/92 [==============================] - 0s 4ms/step - loss: 0.0246\n",
            "Epoch 66/400\n",
            "92/92 [==============================] - 0s 4ms/step - loss: 0.0239\n",
            "Epoch 67/400\n",
            "92/92 [==============================] - 0s 4ms/step - loss: 0.0261\n",
            "Epoch 68/400\n",
            "92/92 [==============================] - 0s 4ms/step - loss: 0.0223\n",
            "Epoch 69/400\n",
            "92/92 [==============================] - 0s 4ms/step - loss: 0.0283\n",
            "Epoch 70/400\n",
            "92/92 [==============================] - 0s 5ms/step - loss: 0.0297\n",
            "Epoch 71/400\n",
            "92/92 [==============================] - 0s 4ms/step - loss: 0.0282\n",
            "Epoch 72/400\n",
            "92/92 [==============================] - 0s 4ms/step - loss: 0.0318\n",
            "Epoch 73/400\n",
            "92/92 [==============================] - 0s 5ms/step - loss: 0.0199\n",
            "Epoch 74/400\n",
            "92/92 [==============================] - 0s 4ms/step - loss: 0.0225\n",
            "Epoch 75/400\n",
            "92/92 [==============================] - 0s 5ms/step - loss: 0.0147\n",
            "Epoch 76/400\n",
            "92/92 [==============================] - 0s 4ms/step - loss: 0.0384\n",
            "Epoch 77/400\n",
            "92/92 [==============================] - 0s 4ms/step - loss: 0.0327\n",
            "Epoch 78/400\n",
            "92/92 [==============================] - 0s 4ms/step - loss: 0.0362\n",
            "Epoch 79/400\n",
            "92/92 [==============================] - 0s 4ms/step - loss: 0.0331\n",
            "Epoch 80/400\n",
            "92/92 [==============================] - 0s 5ms/step - loss: 0.0160\n",
            "Epoch 81/400\n",
            "92/92 [==============================] - 0s 4ms/step - loss: 0.0139\n",
            "Epoch 82/400\n",
            "92/92 [==============================] - 0s 5ms/step - loss: 0.0152\n",
            "Epoch 83/400\n",
            "92/92 [==============================] - 0s 4ms/step - loss: 0.0158\n",
            "Epoch 84/400\n",
            "92/92 [==============================] - 0s 4ms/step - loss: 0.0116\n",
            "Epoch 85/400\n",
            "92/92 [==============================] - 0s 5ms/step - loss: 0.0113\n",
            "Epoch 86/400\n",
            "92/92 [==============================] - 0s 4ms/step - loss: 0.0075\n",
            "Epoch 87/400\n",
            "92/92 [==============================] - 0s 4ms/step - loss: 0.0081\n",
            "Epoch 88/400\n",
            "92/92 [==============================] - 0s 4ms/step - loss: 0.0106\n",
            "Epoch 89/400\n",
            "92/92 [==============================] - 0s 4ms/step - loss: 0.0107\n",
            "Epoch 90/400\n",
            "92/92 [==============================] - 0s 4ms/step - loss: 0.0221\n",
            "Epoch 91/400\n",
            "92/92 [==============================] - 0s 4ms/step - loss: 0.0323\n",
            "Epoch 92/400\n",
            "92/92 [==============================] - 0s 5ms/step - loss: 0.0310\n",
            "Epoch 93/400\n",
            "92/92 [==============================] - 0s 5ms/step - loss: 0.0242\n",
            "Epoch 94/400\n",
            "92/92 [==============================] - 0s 4ms/step - loss: 0.0180\n",
            "Epoch 95/400\n",
            "92/92 [==============================] - 0s 5ms/step - loss: 0.0178\n",
            "Epoch 96/400\n",
            "92/92 [==============================] - 0s 4ms/step - loss: 0.0137\n",
            "Epoch 97/400\n",
            "92/92 [==============================] - 0s 5ms/step - loss: 0.0080\n",
            "Epoch 98/400\n",
            "92/92 [==============================] - 0s 4ms/step - loss: 0.0083\n",
            "Epoch 99/400\n",
            "92/92 [==============================] - 0s 5ms/step - loss: 0.0098\n",
            "Epoch 100/400\n",
            "92/92 [==============================] - 0s 4ms/step - loss: 0.0106\n",
            "Epoch 101/400\n",
            "92/92 [==============================] - 0s 4ms/step - loss: 0.0212\n",
            "Epoch 102/400\n",
            "92/92 [==============================] - 0s 5ms/step - loss: 0.0228\n",
            "Epoch 103/400\n",
            "92/92 [==============================] - 0s 4ms/step - loss: 0.0138\n",
            "Epoch 104/400\n",
            "92/92 [==============================] - 0s 4ms/step - loss: 0.0098\n",
            "Epoch 105/400\n",
            "92/92 [==============================] - 0s 5ms/step - loss: 0.0096\n",
            "Epoch 106/400\n",
            "92/92 [==============================] - 0s 4ms/step - loss: 0.0126\n",
            "Epoch 107/400\n",
            "92/92 [==============================] - 0s 5ms/step - loss: 0.0123\n",
            "Epoch 108/400\n",
            "92/92 [==============================] - 0s 4ms/step - loss: 0.0118\n",
            "Epoch 109/400\n",
            "92/92 [==============================] - 0s 5ms/step - loss: 0.0119\n",
            "Epoch 110/400\n",
            "92/92 [==============================] - 0s 4ms/step - loss: 0.0161\n",
            "Epoch 111/400\n",
            "92/92 [==============================] - 0s 4ms/step - loss: 0.0226\n",
            "Epoch 112/400\n",
            "92/92 [==============================] - 0s 5ms/step - loss: 0.0216\n",
            "Epoch 113/400\n",
            "92/92 [==============================] - 0s 4ms/step - loss: 0.0161\n",
            "Epoch 114/400\n",
            "92/92 [==============================] - 0s 4ms/step - loss: 0.0280\n",
            "Epoch 115/400\n",
            "92/92 [==============================] - 0s 4ms/step - loss: 0.0265\n",
            "Epoch 116/400\n",
            "92/92 [==============================] - 0s 4ms/step - loss: 0.0245\n",
            "Epoch 117/400\n",
            "92/92 [==============================] - 0s 5ms/step - loss: 0.0196\n",
            "Epoch 118/400\n",
            "92/92 [==============================] - 0s 4ms/step - loss: 0.0180\n",
            "Epoch 119/400\n",
            "92/92 [==============================] - 0s 5ms/step - loss: 0.0137\n",
            "Epoch 120/400\n",
            "92/92 [==============================] - 0s 4ms/step - loss: 0.0110\n",
            "Epoch 121/400\n",
            "92/92 [==============================] - 0s 4ms/step - loss: 0.0065\n",
            "Epoch 122/400\n",
            "92/92 [==============================] - 0s 5ms/step - loss: 0.0050\n",
            "Epoch 123/400\n",
            "92/92 [==============================] - 0s 5ms/step - loss: 0.0054\n",
            "Epoch 124/400\n",
            "92/92 [==============================] - 0s 4ms/step - loss: 0.0055\n",
            "Epoch 125/400\n",
            "92/92 [==============================] - 0s 4ms/step - loss: 0.0110\n",
            "Epoch 126/400\n",
            "92/92 [==============================] - 0s 5ms/step - loss: 0.0129\n",
            "Epoch 127/400\n",
            "92/92 [==============================] - 0s 4ms/step - loss: 0.0094\n",
            "Epoch 128/400\n",
            "92/92 [==============================] - 0s 4ms/step - loss: 0.0131\n",
            "Epoch 129/400\n",
            "92/92 [==============================] - 0s 5ms/step - loss: 0.0136\n",
            "Epoch 130/400\n",
            "92/92 [==============================] - 0s 5ms/step - loss: 0.0080\n",
            "Epoch 131/400\n",
            "92/92 [==============================] - 0s 5ms/step - loss: 0.0126\n",
            "Epoch 132/400\n",
            "92/92 [==============================] - 0s 5ms/step - loss: 0.0158\n",
            "Epoch 133/400\n",
            "92/92 [==============================] - 0s 4ms/step - loss: 0.0233\n",
            "Epoch 134/400\n",
            "92/92 [==============================] - 0s 5ms/step - loss: 0.0271\n",
            "Epoch 135/400\n",
            "92/92 [==============================] - 0s 5ms/step - loss: 0.0207\n",
            "Epoch 136/400\n",
            "92/92 [==============================] - 0s 4ms/step - loss: 0.0154\n",
            "Epoch 137/400\n",
            "92/92 [==============================] - 0s 4ms/step - loss: 0.0155\n",
            "Epoch 138/400\n",
            "92/92 [==============================] - 0s 5ms/step - loss: 0.0095\n",
            "Epoch 139/400\n",
            "92/92 [==============================] - 0s 4ms/step - loss: 0.0058\n",
            "Epoch 140/400\n",
            "92/92 [==============================] - 0s 5ms/step - loss: 0.0062\n",
            "Epoch 141/400\n",
            "92/92 [==============================] - 0s 4ms/step - loss: 0.0061\n",
            "Epoch 142/400\n",
            "92/92 [==============================] - 0s 4ms/step - loss: 0.0118\n",
            "Epoch 143/400\n",
            "92/92 [==============================] - 0s 4ms/step - loss: 0.0072\n",
            "Epoch 144/400\n",
            "92/92 [==============================] - 0s 4ms/step - loss: 0.0065\n",
            "Epoch 145/400\n",
            "92/92 [==============================] - 0s 4ms/step - loss: 0.0056\n",
            "Epoch 146/400\n",
            "92/92 [==============================] - 0s 5ms/step - loss: 0.0056\n",
            "Epoch 147/400\n",
            "92/92 [==============================] - 0s 4ms/step - loss: 0.0059\n",
            "Epoch 148/400\n",
            "92/92 [==============================] - 0s 4ms/step - loss: 0.0109\n",
            "Epoch 149/400\n",
            "92/92 [==============================] - 0s 4ms/step - loss: 0.0134\n",
            "Epoch 150/400\n",
            "92/92 [==============================] - 0s 4ms/step - loss: 0.0191\n",
            "Epoch 151/400\n",
            "92/92 [==============================] - 0s 4ms/step - loss: 0.0257\n",
            "Epoch 152/400\n",
            "92/92 [==============================] - 0s 5ms/step - loss: 0.0229\n",
            "Epoch 153/400\n",
            "92/92 [==============================] - 0s 4ms/step - loss: 0.0148\n",
            "Epoch 154/400\n",
            "92/92 [==============================] - 0s 4ms/step - loss: 0.0126\n",
            "Epoch 155/400\n",
            "92/92 [==============================] - 0s 5ms/step - loss: 0.0079\n",
            "Epoch 156/400\n",
            "92/92 [==============================] - 0s 4ms/step - loss: 0.0095\n",
            "Epoch 157/400\n",
            "92/92 [==============================] - 0s 4ms/step - loss: 0.0080\n",
            "Epoch 158/400\n",
            "92/92 [==============================] - 0s 5ms/step - loss: 0.0055\n",
            "Epoch 159/400\n",
            "92/92 [==============================] - 0s 4ms/step - loss: 0.0083\n",
            "Epoch 160/400\n",
            "92/92 [==============================] - 0s 4ms/step - loss: 0.0150\n",
            "Epoch 161/400\n",
            "92/92 [==============================] - 0s 4ms/step - loss: 0.0131\n",
            "Epoch 162/400\n",
            "92/92 [==============================] - 0s 4ms/step - loss: 0.0107\n",
            "Epoch 163/400\n",
            "92/92 [==============================] - 0s 4ms/step - loss: 0.0068\n",
            "Epoch 164/400\n",
            "92/92 [==============================] - 0s 4ms/step - loss: 0.0042\n",
            "Epoch 165/400\n",
            "92/92 [==============================] - 0s 4ms/step - loss: 0.0031\n",
            "Epoch 166/400\n",
            "92/92 [==============================] - 0s 4ms/step - loss: 0.0040\n",
            "Epoch 167/400\n",
            "92/92 [==============================] - 0s 4ms/step - loss: 0.0041\n",
            "Epoch 168/400\n",
            "92/92 [==============================] - 0s 4ms/step - loss: 0.0039\n",
            "Epoch 169/400\n",
            "92/92 [==============================] - 0s 4ms/step - loss: 0.0054\n",
            "Epoch 170/400\n",
            "92/92 [==============================] - 0s 4ms/step - loss: 0.0080\n",
            "Epoch 171/400\n",
            "92/92 [==============================] - 0s 5ms/step - loss: 0.0145\n",
            "Epoch 172/400\n",
            "92/92 [==============================] - 0s 4ms/step - loss: 0.0153\n",
            "Epoch 173/400\n",
            "92/92 [==============================] - 0s 5ms/step - loss: 0.0127\n",
            "Epoch 174/400\n",
            "92/92 [==============================] - 0s 4ms/step - loss: 0.0155\n",
            "Epoch 175/400\n",
            "92/92 [==============================] - 0s 4ms/step - loss: 0.0115\n",
            "Epoch 176/400\n",
            "92/92 [==============================] - 0s 4ms/step - loss: 0.0099\n",
            "Epoch 177/400\n",
            "92/92 [==============================] - 0s 4ms/step - loss: 0.0074\n",
            "Epoch 178/400\n",
            "92/92 [==============================] - 0s 4ms/step - loss: 0.0047\n",
            "Epoch 179/400\n",
            "92/92 [==============================] - 0s 4ms/step - loss: 0.0045\n",
            "Epoch 180/400\n",
            "92/92 [==============================] - 0s 4ms/step - loss: 0.0029\n",
            "Epoch 181/400\n",
            "92/92 [==============================] - 0s 4ms/step - loss: 0.0024\n",
            "Epoch 182/400\n",
            "92/92 [==============================] - 0s 4ms/step - loss: 0.0022\n",
            "Epoch 183/400\n",
            "92/92 [==============================] - 0s 5ms/step - loss: 0.0032\n",
            "Epoch 184/400\n",
            "92/92 [==============================] - 0s 5ms/step - loss: 0.0029\n",
            "Epoch 185/400\n",
            "92/92 [==============================] - 0s 4ms/step - loss: 0.0047\n",
            "Epoch 186/400\n",
            "92/92 [==============================] - 0s 4ms/step - loss: 0.0078\n",
            "Epoch 187/400\n",
            "92/92 [==============================] - 0s 5ms/step - loss: 0.0353\n",
            "Epoch 188/400\n",
            "92/92 [==============================] - 0s 4ms/step - loss: 0.0245\n",
            "Epoch 189/400\n",
            "92/92 [==============================] - 0s 5ms/step - loss: 0.0141\n",
            "Epoch 190/400\n",
            "92/92 [==============================] - 0s 5ms/step - loss: 0.0115\n",
            "Epoch 191/400\n",
            "92/92 [==============================] - 0s 5ms/step - loss: 0.0165\n",
            "Epoch 192/400\n",
            "92/92 [==============================] - 0s 5ms/step - loss: 0.0194\n",
            "Epoch 193/400\n",
            "92/92 [==============================] - 0s 4ms/step - loss: 0.0164\n",
            "Epoch 194/400\n",
            "92/92 [==============================] - 0s 4ms/step - loss: 0.0106\n",
            "Epoch 195/400\n",
            "92/92 [==============================] - 0s 5ms/step - loss: 0.0102\n",
            "Epoch 196/400\n",
            "92/92 [==============================] - 0s 5ms/step - loss: 0.0075\n",
            "Epoch 197/400\n",
            "92/92 [==============================] - 0s 5ms/step - loss: 0.0042\n",
            "Epoch 198/400\n",
            "92/92 [==============================] - 0s 5ms/step - loss: 0.0049\n",
            "Epoch 199/400\n",
            "92/92 [==============================] - 0s 5ms/step - loss: 0.0056\n",
            "Epoch 200/400\n",
            "92/92 [==============================] - 0s 4ms/step - loss: 0.0050\n",
            "Epoch 201/400\n",
            "92/92 [==============================] - 0s 4ms/step - loss: 0.0075\n",
            "Epoch 202/400\n",
            "92/92 [==============================] - 0s 5ms/step - loss: 0.0053\n",
            "Epoch 203/400\n",
            "92/92 [==============================] - 0s 4ms/step - loss: 0.0053\n",
            "Epoch 204/400\n",
            "92/92 [==============================] - 0s 5ms/step - loss: 0.0053\n",
            "Epoch 205/400\n",
            "92/92 [==============================] - 0s 4ms/step - loss: 0.0040\n",
            "Epoch 206/400\n",
            "92/92 [==============================] - 0s 4ms/step - loss: 0.0033\n",
            "Epoch 207/400\n",
            "92/92 [==============================] - 0s 5ms/step - loss: 0.0024\n",
            "Epoch 208/400\n",
            "92/92 [==============================] - 0s 4ms/step - loss: 0.0028\n",
            "Epoch 209/400\n",
            "92/92 [==============================] - 0s 4ms/step - loss: 0.0032\n",
            "Epoch 210/400\n",
            "92/92 [==============================] - 0s 4ms/step - loss: 0.0039\n",
            "Epoch 211/400\n",
            "92/92 [==============================] - 0s 5ms/step - loss: 0.0049\n",
            "Epoch 212/400\n",
            "92/92 [==============================] - 0s 5ms/step - loss: 0.0055\n",
            "Epoch 213/400\n",
            "92/92 [==============================] - 0s 5ms/step - loss: 0.0133\n",
            "Epoch 214/400\n",
            "92/92 [==============================] - 0s 5ms/step - loss: 0.0305\n",
            "Epoch 215/400\n",
            "92/92 [==============================] - 0s 4ms/step - loss: 0.0286\n",
            "Epoch 216/400\n",
            "92/92 [==============================] - 0s 5ms/step - loss: 0.0139\n",
            "Epoch 217/400\n",
            "92/92 [==============================] - 0s 4ms/step - loss: 0.0053\n",
            "Epoch 218/400\n",
            "92/92 [==============================] - 0s 4ms/step - loss: 0.0041\n",
            "Epoch 219/400\n",
            "92/92 [==============================] - 0s 4ms/step - loss: 0.0042\n",
            "Epoch 220/400\n",
            "92/92 [==============================] - 0s 4ms/step - loss: 0.0039\n",
            "Epoch 221/400\n",
            "92/92 [==============================] - 0s 5ms/step - loss: 0.0022\n",
            "Epoch 222/400\n",
            "92/92 [==============================] - 0s 4ms/step - loss: 0.0017\n",
            "Epoch 223/400\n",
            "92/92 [==============================] - 0s 5ms/step - loss: 0.0016\n",
            "Epoch 224/400\n",
            "92/92 [==============================] - 0s 5ms/step - loss: 0.0025\n",
            "Epoch 225/400\n",
            "92/92 [==============================] - 0s 4ms/step - loss: 0.0019\n",
            "Epoch 226/400\n",
            "92/92 [==============================] - 0s 5ms/step - loss: 0.0024\n",
            "Epoch 227/400\n",
            "92/92 [==============================] - 0s 4ms/step - loss: 0.0040\n",
            "Epoch 228/400\n",
            "92/92 [==============================] - 0s 5ms/step - loss: 0.0044\n",
            "Epoch 229/400\n",
            "92/92 [==============================] - 0s 4ms/step - loss: 0.0059\n",
            "Epoch 230/400\n",
            "92/92 [==============================] - 0s 5ms/step - loss: 0.0050\n",
            "Epoch 231/400\n",
            "92/92 [==============================] - 0s 5ms/step - loss: 0.0057\n",
            "Epoch 232/400\n",
            "92/92 [==============================] - 0s 4ms/step - loss: 0.0060\n",
            "Epoch 233/400\n",
            "92/92 [==============================] - 0s 5ms/step - loss: 0.0073\n",
            "Epoch 234/400\n",
            "92/92 [==============================] - 0s 4ms/step - loss: 0.0093\n",
            "Epoch 235/400\n",
            "92/92 [==============================] - 0s 5ms/step - loss: 0.0090\n",
            "Epoch 236/400\n",
            "92/92 [==============================] - 0s 4ms/step - loss: 0.0068\n",
            "Epoch 237/400\n",
            "92/92 [==============================] - 0s 4ms/step - loss: 0.0045\n",
            "Epoch 238/400\n",
            "92/92 [==============================] - 0s 5ms/step - loss: 0.0043\n",
            "Epoch 239/400\n",
            "92/92 [==============================] - 0s 5ms/step - loss: 0.0038\n",
            "Epoch 240/400\n",
            "92/92 [==============================] - 0s 4ms/step - loss: 0.0043\n",
            "Epoch 241/400\n",
            "92/92 [==============================] - 0s 4ms/step - loss: 0.0054\n",
            "Epoch 242/400\n",
            "92/92 [==============================] - 0s 4ms/step - loss: 0.0070\n",
            "Epoch 243/400\n",
            "92/92 [==============================] - 0s 4ms/step - loss: 0.0093\n",
            "Epoch 244/400\n",
            "92/92 [==============================] - 0s 5ms/step - loss: 0.0109\n",
            "Epoch 245/400\n",
            "92/92 [==============================] - 0s 5ms/step - loss: 0.0109\n",
            "Epoch 246/400\n",
            "92/92 [==============================] - 0s 5ms/step - loss: 0.0063\n",
            "Epoch 247/400\n",
            "92/92 [==============================] - 0s 5ms/step - loss: 0.0043\n",
            "Epoch 248/400\n",
            "92/92 [==============================] - 0s 5ms/step - loss: 0.0033\n",
            "Epoch 249/400\n",
            "92/92 [==============================] - 0s 5ms/step - loss: 0.0029\n",
            "Epoch 250/400\n",
            "92/92 [==============================] - 0s 4ms/step - loss: 0.0023\n",
            "Epoch 251/400\n",
            "92/92 [==============================] - 0s 4ms/step - loss: 0.0019\n",
            "Epoch 252/400\n",
            "92/92 [==============================] - 0s 5ms/step - loss: 0.0022\n",
            "Epoch 253/400\n",
            "92/92 [==============================] - 0s 5ms/step - loss: 0.0024\n",
            "Epoch 254/400\n",
            "92/92 [==============================] - 0s 5ms/step - loss: 0.0037\n",
            "Epoch 255/400\n",
            "92/92 [==============================] - 0s 4ms/step - loss: 0.0102\n",
            "Epoch 256/400\n",
            "92/92 [==============================] - 0s 5ms/step - loss: 0.0103\n",
            "Epoch 257/400\n",
            "92/92 [==============================] - 0s 5ms/step - loss: 0.0099\n",
            "Epoch 258/400\n",
            "92/92 [==============================] - 0s 5ms/step - loss: 0.0103\n",
            "Epoch 259/400\n",
            "92/92 [==============================] - 0s 5ms/step - loss: 0.0131\n",
            "Epoch 260/400\n",
            "92/92 [==============================] - 0s 5ms/step - loss: 0.0147\n",
            "Epoch 261/400\n",
            "92/92 [==============================] - 0s 5ms/step - loss: 0.0085\n",
            "Epoch 262/400\n",
            "92/92 [==============================] - 0s 5ms/step - loss: 0.0051\n",
            "Epoch 263/400\n",
            "92/92 [==============================] - 0s 5ms/step - loss: 0.0029\n",
            "Epoch 264/400\n",
            "92/92 [==============================] - 0s 5ms/step - loss: 0.0024\n",
            "Epoch 265/400\n",
            "92/92 [==============================] - 0s 5ms/step - loss: 0.0040\n",
            "Epoch 266/400\n",
            "92/92 [==============================] - 0s 5ms/step - loss: 0.0038\n",
            "Epoch 267/400\n",
            "92/92 [==============================] - 0s 5ms/step - loss: 0.0124\n",
            "Epoch 268/400\n",
            "92/92 [==============================] - 0s 5ms/step - loss: 0.0117\n",
            "Epoch 269/400\n",
            "92/92 [==============================] - 0s 4ms/step - loss: 0.0112\n",
            "Epoch 270/400\n",
            "92/92 [==============================] - 0s 5ms/step - loss: 0.0139\n",
            "Epoch 271/400\n",
            "92/92 [==============================] - 0s 4ms/step - loss: 0.0092\n",
            "Epoch 272/400\n",
            "92/92 [==============================] - 0s 5ms/step - loss: 0.0073\n",
            "Epoch 273/400\n",
            "92/92 [==============================] - 0s 5ms/step - loss: 0.0056\n",
            "Epoch 274/400\n",
            "92/92 [==============================] - 0s 4ms/step - loss: 0.0038\n",
            "Epoch 275/400\n",
            "92/92 [==============================] - 0s 5ms/step - loss: 0.0042\n",
            "Epoch 276/400\n",
            "92/92 [==============================] - 0s 5ms/step - loss: 0.0073\n",
            "Epoch 277/400\n",
            "92/92 [==============================] - 0s 4ms/step - loss: 0.0063\n",
            "Epoch 278/400\n",
            "92/92 [==============================] - 0s 5ms/step - loss: 0.0036\n",
            "Epoch 279/400\n",
            "92/92 [==============================] - 0s 5ms/step - loss: 0.0026\n",
            "Epoch 280/400\n",
            "92/92 [==============================] - 0s 5ms/step - loss: 0.0024\n",
            "Epoch 281/400\n",
            "92/92 [==============================] - 0s 5ms/step - loss: 0.0017\n",
            "Epoch 282/400\n",
            "92/92 [==============================] - 0s 5ms/step - loss: 0.0016\n",
            "Epoch 283/400\n",
            "92/92 [==============================] - 0s 5ms/step - loss: 0.0016\n",
            "Epoch 284/400\n",
            "92/92 [==============================] - 0s 4ms/step - loss: 0.0022\n",
            "Epoch 285/400\n",
            "92/92 [==============================] - 0s 5ms/step - loss: 0.0180\n",
            "Epoch 286/400\n",
            "92/92 [==============================] - 0s 5ms/step - loss: 0.0163\n",
            "Epoch 287/400\n",
            "92/92 [==============================] - 0s 4ms/step - loss: 0.0097\n",
            "Epoch 288/400\n",
            "92/92 [==============================] - 0s 4ms/step - loss: 0.0046\n",
            "Epoch 289/400\n",
            "92/92 [==============================] - 0s 5ms/step - loss: 0.0020\n",
            "Epoch 290/400\n",
            "92/92 [==============================] - 0s 4ms/step - loss: 0.0018\n",
            "Epoch 291/400\n",
            "92/92 [==============================] - 0s 4ms/step - loss: 0.0028\n",
            "Epoch 292/400\n",
            "92/92 [==============================] - 0s 4ms/step - loss: 0.0050\n",
            "Epoch 293/400\n",
            "92/92 [==============================] - 0s 4ms/step - loss: 0.0059\n",
            "Epoch 294/400\n",
            "92/92 [==============================] - 0s 5ms/step - loss: 0.0032\n",
            "Epoch 295/400\n",
            "92/92 [==============================] - 0s 5ms/step - loss: 0.0033\n",
            "Epoch 296/400\n",
            "92/92 [==============================] - 0s 5ms/step - loss: 0.0033\n",
            "Epoch 297/400\n",
            "92/92 [==============================] - 0s 5ms/step - loss: 0.0022\n",
            "Epoch 298/400\n",
            "92/92 [==============================] - 0s 5ms/step - loss: 0.0020\n",
            "Epoch 299/400\n",
            "92/92 [==============================] - 0s 5ms/step - loss: 0.0014\n",
            "Epoch 300/400\n",
            "92/92 [==============================] - 0s 4ms/step - loss: 0.0015\n",
            "Epoch 301/400\n",
            "92/92 [==============================] - 0s 5ms/step - loss: 0.0015\n",
            "Epoch 302/400\n",
            "92/92 [==============================] - 0s 5ms/step - loss: 0.0022\n",
            "Epoch 303/400\n",
            "92/92 [==============================] - 0s 5ms/step - loss: 0.0041\n",
            "Epoch 304/400\n",
            "92/92 [==============================] - 0s 5ms/step - loss: 0.0040\n",
            "Epoch 305/400\n",
            "92/92 [==============================] - 0s 5ms/step - loss: 0.0072\n",
            "Epoch 306/400\n",
            "92/92 [==============================] - 0s 5ms/step - loss: 0.0057\n",
            "Epoch 307/400\n",
            "92/92 [==============================] - 0s 5ms/step - loss: 0.0078\n",
            "Epoch 308/400\n",
            "92/92 [==============================] - 0s 5ms/step - loss: 0.0058\n",
            "Epoch 309/400\n",
            "92/92 [==============================] - 0s 4ms/step - loss: 0.0068\n",
            "Epoch 310/400\n",
            "92/92 [==============================] - 0s 5ms/step - loss: 0.0054\n",
            "Epoch 311/400\n",
            "92/92 [==============================] - 0s 5ms/step - loss: 0.0060\n",
            "Epoch 312/400\n",
            "92/92 [==============================] - 0s 5ms/step - loss: 0.0039\n",
            "Epoch 313/400\n",
            "92/92 [==============================] - 0s 5ms/step - loss: 0.0052\n",
            "Epoch 314/400\n",
            "92/92 [==============================] - 0s 5ms/step - loss: 0.0038\n",
            "Epoch 315/400\n",
            "92/92 [==============================] - 0s 4ms/step - loss: 0.0039\n",
            "Epoch 316/400\n",
            "92/92 [==============================] - 0s 5ms/step - loss: 0.0032\n",
            "Epoch 317/400\n",
            "92/92 [==============================] - 0s 4ms/step - loss: 0.0031\n",
            "Epoch 318/400\n",
            "92/92 [==============================] - 0s 4ms/step - loss: 0.0032\n",
            "Epoch 319/400\n",
            "92/92 [==============================] - 0s 5ms/step - loss: 0.0031\n",
            "Epoch 320/400\n",
            "92/92 [==============================] - 0s 5ms/step - loss: 0.0034\n",
            "Epoch 321/400\n",
            "92/92 [==============================] - 0s 5ms/step - loss: 0.0096\n",
            "Epoch 322/400\n",
            "92/92 [==============================] - 0s 5ms/step - loss: 0.0120\n",
            "Epoch 323/400\n",
            "92/92 [==============================] - 0s 5ms/step - loss: 0.0079\n",
            "Epoch 324/400\n",
            "92/92 [==============================] - 0s 4ms/step - loss: 0.0056\n",
            "Epoch 325/400\n",
            "92/92 [==============================] - 0s 5ms/step - loss: 0.0054\n",
            "Epoch 326/400\n",
            "92/92 [==============================] - 0s 5ms/step - loss: 0.0036\n",
            "Epoch 327/400\n",
            "92/92 [==============================] - 0s 5ms/step - loss: 0.0026\n",
            "Epoch 328/400\n",
            "92/92 [==============================] - 0s 5ms/step - loss: 0.0019\n",
            "Epoch 329/400\n",
            "92/92 [==============================] - 0s 5ms/step - loss: 0.0018\n",
            "Epoch 330/400\n",
            "92/92 [==============================] - 0s 5ms/step - loss: 0.0017\n",
            "Epoch 331/400\n",
            "92/92 [==============================] - 0s 5ms/step - loss: 0.0010\n",
            "Epoch 332/400\n",
            "92/92 [==============================] - 0s 5ms/step - loss: 0.0019\n",
            "Epoch 333/400\n",
            "92/92 [==============================] - 0s 4ms/step - loss: 0.0031\n",
            "Epoch 334/400\n",
            "92/92 [==============================] - 0s 5ms/step - loss: 0.0042\n",
            "Epoch 335/400\n",
            "92/92 [==============================] - 0s 5ms/step - loss: 0.0071\n",
            "Epoch 336/400\n",
            "92/92 [==============================] - 0s 5ms/step - loss: 0.0062\n",
            "Epoch 337/400\n",
            "92/92 [==============================] - 0s 5ms/step - loss: 0.0078\n",
            "Epoch 338/400\n",
            "92/92 [==============================] - 0s 5ms/step - loss: 0.0115\n",
            "Epoch 339/400\n",
            "92/92 [==============================] - 0s 5ms/step - loss: 0.0112\n",
            "Epoch 340/400\n",
            "92/92 [==============================] - 0s 5ms/step - loss: 0.0072\n",
            "Epoch 341/400\n",
            "92/92 [==============================] - 0s 5ms/step - loss: 0.0057\n",
            "Epoch 342/400\n",
            "92/92 [==============================] - 0s 5ms/step - loss: 0.0035\n",
            "Epoch 343/400\n",
            "92/92 [==============================] - 0s 5ms/step - loss: 0.0026\n",
            "Epoch 344/400\n",
            "92/92 [==============================] - 0s 5ms/step - loss: 0.0015\n",
            "Epoch 345/400\n",
            "92/92 [==============================] - 0s 5ms/step - loss: 0.0015\n",
            "Epoch 346/400\n",
            "92/92 [==============================] - 0s 5ms/step - loss: 0.0021\n",
            "Epoch 347/400\n",
            "92/92 [==============================] - 0s 5ms/step - loss: 0.0022\n",
            "Epoch 348/400\n",
            "92/92 [==============================] - 0s 5ms/step - loss: 0.0024\n",
            "Epoch 349/400\n",
            "92/92 [==============================] - 0s 5ms/step - loss: 0.0040\n",
            "Epoch 350/400\n",
            "92/92 [==============================] - 0s 5ms/step - loss: 0.0034\n",
            "Epoch 351/400\n",
            "92/92 [==============================] - 0s 4ms/step - loss: 0.0024\n",
            "Epoch 352/400\n",
            "92/92 [==============================] - 0s 5ms/step - loss: 0.0023\n",
            "Epoch 353/400\n",
            "92/92 [==============================] - 0s 5ms/step - loss: 0.0017\n",
            "Epoch 354/400\n",
            "92/92 [==============================] - 0s 5ms/step - loss: 0.0025\n",
            "Epoch 355/400\n",
            "92/92 [==============================] - 0s 5ms/step - loss: 0.0027\n",
            "Epoch 356/400\n",
            "92/92 [==============================] - 0s 5ms/step - loss: 0.0034\n",
            "Epoch 357/400\n",
            "92/92 [==============================] - 0s 5ms/step - loss: 0.0112\n",
            "Epoch 358/400\n",
            "92/92 [==============================] - 0s 4ms/step - loss: 0.0091\n",
            "Epoch 359/400\n",
            "92/92 [==============================] - 0s 5ms/step - loss: 0.0114\n",
            "Epoch 360/400\n",
            "92/92 [==============================] - 0s 4ms/step - loss: 0.0080\n",
            "Epoch 361/400\n",
            "92/92 [==============================] - 0s 5ms/step - loss: 0.0076\n",
            "Epoch 362/400\n",
            "92/92 [==============================] - 0s 4ms/step - loss: 0.0045\n",
            "Epoch 363/400\n",
            "92/92 [==============================] - 0s 5ms/step - loss: 0.0036\n",
            "Epoch 364/400\n",
            "92/92 [==============================] - 0s 5ms/step - loss: 0.0086\n",
            "Epoch 365/400\n",
            "92/92 [==============================] - 0s 4ms/step - loss: 0.0090\n",
            "Epoch 366/400\n",
            "92/92 [==============================] - 0s 5ms/step - loss: 0.0068\n",
            "Epoch 367/400\n",
            "92/92 [==============================] - 0s 4ms/step - loss: 0.0062\n",
            "Epoch 368/400\n",
            "92/92 [==============================] - 0s 4ms/step - loss: 0.0053\n",
            "Epoch 369/400\n",
            "92/92 [==============================] - 0s 5ms/step - loss: 0.0037\n",
            "Epoch 370/400\n",
            "92/92 [==============================] - 0s 5ms/step - loss: 0.0038\n",
            "Epoch 371/400\n",
            "92/92 [==============================] - 0s 5ms/step - loss: 0.0046\n",
            "Epoch 372/400\n",
            "92/92 [==============================] - 0s 5ms/step - loss: 0.0059\n",
            "Epoch 373/400\n",
            "92/92 [==============================] - 0s 4ms/step - loss: 0.0036\n",
            "Epoch 374/400\n",
            "92/92 [==============================] - 0s 5ms/step - loss: 0.0025\n",
            "Epoch 375/400\n",
            "92/92 [==============================] - 0s 5ms/step - loss: 0.0023\n",
            "Epoch 376/400\n",
            "92/92 [==============================] - 0s 5ms/step - loss: 0.0025\n",
            "Epoch 377/400\n",
            "92/92 [==============================] - 0s 4ms/step - loss: 0.0025\n",
            "Epoch 378/400\n",
            "92/92 [==============================] - 0s 5ms/step - loss: 0.0035\n",
            "Epoch 379/400\n",
            "92/92 [==============================] - 0s 5ms/step - loss: 0.0031\n",
            "Epoch 380/400\n",
            "92/92 [==============================] - 0s 5ms/step - loss: 0.0052\n",
            "Epoch 381/400\n",
            "92/92 [==============================] - 0s 5ms/step - loss: 0.0046\n",
            "Epoch 382/400\n",
            "92/92 [==============================] - 0s 5ms/step - loss: 0.0031\n",
            "Epoch 383/400\n",
            "92/92 [==============================] - 0s 4ms/step - loss: 0.0029\n",
            "Epoch 384/400\n",
            "92/92 [==============================] - 0s 5ms/step - loss: 0.0040\n",
            "Epoch 385/400\n",
            "92/92 [==============================] - 0s 5ms/step - loss: 0.0031\n",
            "Epoch 386/400\n",
            "92/92 [==============================] - 0s 4ms/step - loss: 0.0020\n",
            "Epoch 387/400\n",
            "92/92 [==============================] - 0s 5ms/step - loss: 0.0032\n",
            "Epoch 388/400\n",
            "92/92 [==============================] - 0s 5ms/step - loss: 0.0042\n",
            "Epoch 389/400\n",
            "92/92 [==============================] - 0s 5ms/step - loss: 0.0036\n",
            "Epoch 390/400\n",
            "92/92 [==============================] - 0s 5ms/step - loss: 0.0029\n",
            "Epoch 391/400\n",
            "92/92 [==============================] - 0s 5ms/step - loss: 0.0022\n",
            "Epoch 392/400\n",
            "92/92 [==============================] - 0s 5ms/step - loss: 0.0017\n",
            "Epoch 393/400\n",
            "92/92 [==============================] - 0s 4ms/step - loss: 0.0023\n",
            "Epoch 394/400\n",
            "92/92 [==============================] - 0s 5ms/step - loss: 0.0031\n",
            "Epoch 395/400\n",
            "92/92 [==============================] - 0s 5ms/step - loss: 0.0031\n",
            "Epoch 396/400\n",
            "92/92 [==============================] - 0s 5ms/step - loss: 0.0031\n",
            "Epoch 397/400\n",
            "92/92 [==============================] - 0s 4ms/step - loss: 0.0046\n",
            "Epoch 398/400\n",
            "92/92 [==============================] - 0s 4ms/step - loss: 0.0101\n",
            "Epoch 399/400\n",
            "92/92 [==============================] - 0s 5ms/step - loss: 0.0093\n",
            "Epoch 400/400\n",
            "92/92 [==============================] - 0s 5ms/step - loss: 0.0114\n"
          ]
        },
        {
          "output_type": "execute_result",
          "data": {
            "text/plain": [
              "<keras.callbacks.History at 0x7f22e5a94f10>"
            ]
          },
          "metadata": {},
          "execution_count": 70
        }
      ]
    },
    {
      "cell_type": "code",
      "metadata": {
        "id": "Odcm4mv3poXk"
      },
      "source": [
        "Y_pred_test_ann = model.predict(X_test)\n",
        "res = \"\\n\".join(\"{} {}\".format(x, y) for x, y in zip(y_test,Y_pred_test_rf ))\n",
        "#print(res)"
      ],
      "execution_count": 71,
      "outputs": []
    },
    {
      "cell_type": "code",
      "metadata": {
        "colab": {
          "base_uri": "https://localhost:8080/"
        },
        "id": "XwQZ7FfJ9X7h",
        "outputId": "c25628b6-8fc3-4c6f-b052-fdb5ebd5fc14"
      },
      "source": [
        "from sklearn.metrics import r2_score\n",
        "r2_score(y_test, Y_pred_test_ann)"
      ],
      "execution_count": 72,
      "outputs": [
        {
          "output_type": "execute_result",
          "data": {
            "text/plain": [
              "0.8879676900233026"
            ]
          },
          "metadata": {},
          "execution_count": 72
        }
      ]
    },
    {
      "cell_type": "code",
      "metadata": {
        "id": "X8XsOgSuqAUk"
      },
      "source": [
        "# Save the model\n",
        "model.save(\"/content/drive/MyDrive/KIT/solubility_model_88_delney.hdf5\")"
      ],
      "execution_count": 73,
      "outputs": []
    },
    {
      "cell_type": "code",
      "metadata": {
        "id": "CZ9G4r8VI6Lr"
      },
      "source": [
        "import pickle\n",
        "#### Save the model :::::\n",
        "#filename = 'finalized_model.rf'\n",
        "pickle.dump(model_xgr, open('/content/drive/MyDrive/KIT/model_96_delnaey_512bit_descriptors.pkl', 'wb'))\n",
        " "
      ],
      "execution_count": 50,
      "outputs": []
    }
  ]
}