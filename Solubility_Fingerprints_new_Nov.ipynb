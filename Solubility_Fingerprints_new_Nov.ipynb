{
  "nbformat": 4,
  "nbformat_minor": 0,
  "metadata": {
    "colab": {
      "name": "Solubility_Fingerprints_new_Nov.ipynb",
      "provenance": [],
      "collapsed_sections": [],
      "mount_file_id": "1ojfWMzcjnZ_JhTjdlmO7Lcz7bF0hX-Ae",
      "authorship_tag": "ABX9TyNF/yXKLkFWoLeljFTi1i9g",
      "include_colab_link": true
    },
    "kernelspec": {
      "name": "python3",
      "display_name": "Python 3"
    },
    "language_info": {
      "name": "python"
    }
  },
  "cells": [
    {
      "cell_type": "markdown",
      "metadata": {
        "id": "view-in-github",
        "colab_type": "text"
      },
      "source": [
        "<a href=\"https://colab.research.google.com/github/ali1810/Solubility_Prediction/blob/main/Solubility_Fingerprints_new_Nov.ipynb\" target=\"_parent\"><img src=\"https://colab.research.google.com/assets/colab-badge.svg\" alt=\"Open In Colab\"/></a>"
      ]
    },
    {
      "cell_type": "code",
      "metadata": {
        "colab": {
          "base_uri": "https://localhost:8080/"
        },
        "id": "WtDhZEHpqlZ3",
        "outputId": "ea686df4-0aed-421f-f8e8-5e5cdfc6d357"
      },
      "source": [
        "### Installation of condacolab to install rdkit ....\n",
        "!pip install -q condacolab\n",
        "import condacolab\n",
        "condacolab.install()"
      ],
      "execution_count": 1,
      "outputs": [
        {
          "output_type": "stream",
          "name": "stdout",
          "text": [
            "⏬ Downloading https://github.com/jaimergp/miniforge/releases/latest/download/Mambaforge-colab-Linux-x86_64.sh...\n",
            "📦 Installing...\n",
            "📌 Adjusting configuration...\n",
            "🩹 Patching environment...\n",
            "⏲ Done in 0:00:42\n",
            "🔁 Restarting kernel...\n"
          ]
        }
      ]
    },
    {
      "cell_type": "code",
      "metadata": {
        "id": "vBtajV7XqhE5"
      },
      "source": [
        "### Installing RDKIT \n",
        "\n",
        "#!mamba install -c conda-forge rdkit"
      ],
      "execution_count": 57,
      "outputs": []
    },
    {
      "cell_type": "code",
      "metadata": {
        "id": "4olPPSjq037K"
      },
      "source": [
        "import pandas as pd \n",
        "import keras as k\n",
        "from keras.models import Sequential, Model\n",
        "from keras.layers import Activation, BatchNormalization, Input, Dense\n",
        "from keras.layers.core import Dense\n",
        "#from keras.optimizer import Adam, SGD\n",
        "from keras.metrics import categorical_crossentropy\n",
        "from keras import losses\n",
        "from rdkit import Chem, DataStructs\n",
        "from rdkit.Chem import rdMolDescriptors, Draw\n",
        "from rdkit.Chem.Draw import IPythonConsole\n",
        "from rdkit.Chem.Fingerprints import FingerprintMols\n",
        "from sklearn.preprocessing import MinMaxScaler\n",
        "import numpy as np\n",
        "from numpy import argmax\n",
        "from numpy import ndarray\n",
        "import tensorflow as tf\n",
        "import math\n",
        "import re\n",
        "import string\n",
        "from collections import OrderedDict\n",
        "import pandas as pd\n",
        "import csv\n",
        "from collections import defaultdict\n"
      ],
      "execution_count": 1,
      "outputs": []
    },
    {
      "cell_type": "code",
      "metadata": {
        "id": "Pc2l2xAFHMea",
        "colab": {
          "base_uri": "https://localhost:8080/",
          "height": 205
        },
        "outputId": "f00935c1-17a1-4da5-9bb9-1b0b57fd6d77"
      },
      "source": [
        "data=pd.read_csv('/content/drive/MyDrive/KIT/delaney.csv')\n",
        "#data=pd.read_csv('/content/drive/MyDrive/KIT/acetone_solubility_data.csv')\n",
        "\n",
        "#data=pd.read_csv('/content/drive/MyDrive/KIT/curated-solubility-dataset_new.csv')\n",
        "#data=pd.read_csv('/content/drive/MyDrive/KIT/ESOL_delaney-processed.csv')\n",
        "data.head()"
      ],
      "execution_count": 2,
      "outputs": [
        {
          "output_type": "execute_result",
          "data": {
            "text/html": [
              "<div>\n",
              "<style scoped>\n",
              "    .dataframe tbody tr th:only-of-type {\n",
              "        vertical-align: middle;\n",
              "    }\n",
              "\n",
              "    .dataframe tbody tr th {\n",
              "        vertical-align: top;\n",
              "    }\n",
              "\n",
              "    .dataframe thead th {\n",
              "        text-align: right;\n",
              "    }\n",
              "</style>\n",
              "<table border=\"1\" class=\"dataframe\">\n",
              "  <thead>\n",
              "    <tr style=\"text-align: right;\">\n",
              "      <th></th>\n",
              "      <th>Compound ID</th>\n",
              "      <th>measured log(solubility:mol/L)</th>\n",
              "      <th>ESOL predicted log(solubility:mol/L)</th>\n",
              "      <th>SMILES</th>\n",
              "    </tr>\n",
              "  </thead>\n",
              "  <tbody>\n",
              "    <tr>\n",
              "      <th>0</th>\n",
              "      <td>1,1,1,2-Tetrachloroethane</td>\n",
              "      <td>-2.18</td>\n",
              "      <td>-2.794</td>\n",
              "      <td>ClCC(Cl)(Cl)Cl</td>\n",
              "    </tr>\n",
              "    <tr>\n",
              "      <th>1</th>\n",
              "      <td>1,1,1-Trichloroethane</td>\n",
              "      <td>-2.00</td>\n",
              "      <td>-2.232</td>\n",
              "      <td>CC(Cl)(Cl)Cl</td>\n",
              "    </tr>\n",
              "    <tr>\n",
              "      <th>2</th>\n",
              "      <td>1,1,2,2-Tetrachloroethane</td>\n",
              "      <td>-1.74</td>\n",
              "      <td>-2.549</td>\n",
              "      <td>ClC(Cl)C(Cl)Cl</td>\n",
              "    </tr>\n",
              "    <tr>\n",
              "      <th>3</th>\n",
              "      <td>1,1,2-Trichloroethane</td>\n",
              "      <td>-1.48</td>\n",
              "      <td>-1.961</td>\n",
              "      <td>ClCC(Cl)Cl</td>\n",
              "    </tr>\n",
              "    <tr>\n",
              "      <th>4</th>\n",
              "      <td>1,1,2-Trichlorotrifluoroethane</td>\n",
              "      <td>-3.04</td>\n",
              "      <td>-3.077</td>\n",
              "      <td>FC(F)(Cl)C(F)(Cl)Cl</td>\n",
              "    </tr>\n",
              "  </tbody>\n",
              "</table>\n",
              "</div>"
            ],
            "text/plain": [
              "                      Compound ID  ...               SMILES\n",
              "0       1,1,1,2-Tetrachloroethane  ...       ClCC(Cl)(Cl)Cl\n",
              "1           1,1,1-Trichloroethane  ...         CC(Cl)(Cl)Cl\n",
              "2       1,1,2,2-Tetrachloroethane  ...       ClC(Cl)C(Cl)Cl\n",
              "3           1,1,2-Trichloroethane  ...           ClCC(Cl)Cl\n",
              "4  1,1,2-Trichlorotrifluoroethane  ...  FC(F)(Cl)C(F)(Cl)Cl\n",
              "\n",
              "[5 rows x 4 columns]"
            ]
          },
          "metadata": {},
          "execution_count": 2
        }
      ]
    },
    {
      "cell_type": "code",
      "metadata": {
        "id": "KBneEw7HIBSy"
      },
      "source": [
        "#data.isnull()"
      ],
      "execution_count": 56,
      "outputs": []
    },
    {
      "cell_type": "code",
      "metadata": {
        "id": "gndzr1ZlXO_U"
      },
      "source": [
        "data[\"smiles_length\"]= data[\"SMILES\"].apply(len)"
      ],
      "execution_count": 4,
      "outputs": []
    },
    {
      "cell_type": "code",
      "metadata": {
        "colab": {
          "base_uri": "https://localhost:8080/"
        },
        "id": "WELNoWCJRg9p",
        "outputId": "a6403cf4-a7d0-4408-fbd3-6244352005b8"
      },
      "source": [
        "data  = data[data['smiles_length'] < 100]\n",
        "print(len(data))"
      ],
      "execution_count": 5,
      "outputs": [
        {
          "output_type": "stream",
          "name": "stdout",
          "text": [
            "1144\n"
          ]
        }
      ]
    },
    {
      "cell_type": "code",
      "metadata": {
        "id": "sYT09ZK2RncE"
      },
      "source": [
        "smiles_array=data.SMILES"
      ],
      "execution_count": 6,
      "outputs": []
    },
    {
      "cell_type": "code",
      "metadata": {
        "id": "0ktXa3THIHua"
      },
      "source": [
        "solubility_array= data.iloc[:,2]\n",
        "#print(solubility_array)"
      ],
      "execution_count": 9,
      "outputs": []
    },
    {
      "cell_type": "code",
      "metadata": {
        "id": "JQPBAPW8NmxN"
      },
      "source": [
        "#data.isnull()"
      ],
      "execution_count": null,
      "outputs": []
    },
    {
      "cell_type": "code",
      "metadata": {
        "id": "IOwtjvnCRO2s"
      },
      "source": [
        "#print(len(df6))\n"
      ],
      "execution_count": null,
      "outputs": []
    },
    {
      "cell_type": "code",
      "metadata": {
        "id": "tsVE5sMPNu_2"
      },
      "source": [
        "data = data.dropna()"
      ],
      "execution_count": null,
      "outputs": []
    },
    {
      "cell_type": "code",
      "metadata": {
        "colab": {
          "base_uri": "https://localhost:8080/"
        },
        "id": "swLSgbS4IM7C",
        "outputId": "d934a006-96d6-4290-f69a-7b47599d0509"
      },
      "source": [
        "print(len(smiles_array))\n",
        "print(len(solubility_array))"
      ],
      "execution_count": 10,
      "outputs": [
        {
          "output_type": "stream",
          "name": "stdout",
          "text": [
            "1144\n",
            "1144\n"
          ]
        }
      ]
    },
    {
      "cell_type": "code",
      "metadata": {
        "id": "ACHt7uGtIk0i"
      },
      "source": [
        "#Turning SMILES into Explicit Bit Vectors (RDKit prefered format)\n",
        "mols = [Chem.rdmolfiles.MolFromSmiles(SMILES_string) for SMILES_string in smiles_array]\n",
        "\n",
        "\n",
        "#Convert training molecules into training fingerprints\n",
        "bi = {}\n",
        "fingerprints = [Chem.rdMolDescriptors.GetMorganFingerprintAsBitVect(m, radius=2, bitInfo= bi, nBits=512) for m in mols]\n",
        "\n"
      ],
      "execution_count": 11,
      "outputs": []
    },
    {
      "cell_type": "code",
      "metadata": {
        "id": "DeFfw-U8JBBr"
      },
      "source": [
        "#Convert training fingerprints into binary, and put all training binaries into arrays\n",
        "import numpy as np \n",
        "\n",
        "fingerprints_array = []\n",
        "for fingerprint in fingerprints:\n",
        "        array = np.zeros((1,), dtype= int)\n",
        "        DataStructs.ConvertToNumpyArray(fingerprint, array)\n",
        "        fingerprints_array.append(array)"
      ],
      "execution_count": 12,
      "outputs": []
    },
    {
      "cell_type": "code",
      "metadata": {
        "id": "53S1NZF1QRBR"
      },
      "source": [
        "fingerprints_array =np.array(fingerprints_array)\n",
        "solubility_array =np.array(solubility_array)"
      ],
      "execution_count": 13,
      "outputs": []
    },
    {
      "cell_type": "code",
      "metadata": {
        "colab": {
          "base_uri": "https://localhost:8080/"
        },
        "id": "-Xm0tqZKJK2M",
        "outputId": "27f9c427-7f10-4245-f09f-83299f1bba3c"
      },
      "source": [
        "print(len(fingerprints_array))\n",
        "print(len(solubility_array))\n",
        "print(fingerprints_array.shape)\n",
        "print(solubility_array.shape)"
      ],
      "execution_count": 14,
      "outputs": [
        {
          "output_type": "stream",
          "name": "stdout",
          "text": [
            "1144\n",
            "1144\n",
            "(1144, 512)\n",
            "(1144,)\n"
          ]
        }
      ]
    },
    {
      "cell_type": "code",
      "metadata": {
        "id": "G1WtztOSQS5-"
      },
      "source": [
        "### Write a function to calculate these values....\n",
        "\n",
        "def getAromaticProportion(m):\n",
        "    aromatic_list = [m.GetAtomWithIdx(i).GetIsAromatic() for i in range(m.GetNumAtoms())]\n",
        "    aromatic = 0\n",
        "    for i in aromatic_list:\n",
        "        if i:\n",
        "            aromatic += 1\n",
        "    heavy_atom = Lipinski.HeavyAtomCount(m)\n",
        "    return aromatic / heavy_atom\n",
        "\n",
        "\n",
        "def generate(smiles):\n",
        "    moldata = []\n",
        "    for elem in smiles:\n",
        "        mol = Chem.MolFromSmiles(elem)\n",
        "        moldata.append(mol)\n",
        "\n",
        "    baseData = np.arange(1, 1)\n",
        "    i = 0\n",
        "    for mol in moldata:\n",
        "\n",
        "        desc_MolLogP = Crippen.MolLogP(mol)\n",
        "        desc_MolWt = Descriptors.MolWt(mol)\n",
        "        desc_NumRotatableBonds = Lipinski.NumRotatableBonds(mol)\n",
        "        desc_AromaticProportion = getAromaticProportion(mol)\n",
        "        desc_Ringcount        =   Descriptors.RingCount(mol)\n",
        "        desc_TPSA = Descriptors.TPSA(mol)\n",
        "        desc_Hdonrs=Lipinski.NumHDonors(mol)\n",
        "        desc_SaturatedRings = Lipinski.NumSaturatedRings(mol)   \n",
        "        desc_AliphaticRings = Lipinski.NumAliphaticRings(mol) \n",
        "        desc_HAcceptors =     Lipinski.NumHAcceptors(mol)\n",
        "        desc_Heteroatoms =    Lipinski.NumHeteroatoms(mol)\n",
        "        #desc_Max_Partial_Charge =  Descriptors.MaxPartialCharge(mol)\n",
        "        #desc_FP_density =  Descriptors.FpDensityMorgan1(mol)\n",
        "        #desc_num_valence_electrons = Descriptors.NumValenceElectrons(mol)\n",
        "        #desc_molMR=Descriptors.MolMR(mol)\n",
        "        row = np.array([desc_MolLogP,\n",
        "                        desc_MolWt,\n",
        "                        desc_NumRotatableBonds,\n",
        "                        desc_AromaticProportion,desc_Ringcount,desc_TPSA,desc_Hdonrs,desc_SaturatedRings,desc_AliphaticRings,\n",
        "                        desc_HAcceptors,desc_Heteroatoms])\n",
        "                        #,desc_Max_Partial_Charge,desc_FP_density,desc_num_valence_electrons])\n",
        "\n",
        "        if i == 0:\n",
        "            baseData = row\n",
        "        else:\n",
        "            baseData = np.vstack([baseData, row])\n",
        "        i = i + 1\n",
        "\n",
        "    columnNames = [\"MolLogP\", \"MolWt\", \"NumRotatableBonds\", \"AromaticProportion\",\"Ring_Count\",\"TPSA\",\"H_donors\",\n",
        "                   \"Saturated_Rings\",\"AliphaticRings\",\"H_Acceptors\",\"Heteroatoms\"]\n",
        "                   #,\"Max_Partial_Charge\",\"FP_density\",\"valence_electrons\"]\n",
        "    descriptors = pd.DataFrame(data=baseData, columns=columnNames)\n",
        "\n",
        "    return descriptors\n"
      ],
      "execution_count": 15,
      "outputs": []
    },
    {
      "cell_type": "code",
      "metadata": {
        "id": "AOacIpWHQzIP"
      },
      "source": [
        "import numpy as np\n",
        "from rdkit.Chem import Descriptors\n",
        "from rdkit.Chem import Lipinski\n",
        "from rdkit.Chem import Crippen"
      ],
      "execution_count": 16,
      "outputs": []
    },
    {
      "cell_type": "code",
      "metadata": {
        "colab": {
          "base_uri": "https://localhost:8080/"
        },
        "id": "Ujf2RS7_QOCL",
        "outputId": "e4fc08b7-7d9a-4495-d361-e1f35ab40fe0"
      },
      "source": [
        "descriptors =generate(data.SMILES)\n",
        "print(descriptors)"
      ],
      "execution_count": 17,
      "outputs": [
        {
          "output_type": "stream",
          "name": "stdout",
          "text": [
            "      MolLogP    MolWt  ...  H_Acceptors  Heteroatoms\n",
            "0     2.59540  167.850  ...          0.0          4.0\n",
            "1     2.37650  133.405  ...          0.0          3.0\n",
            "2     2.59380  167.850  ...          0.0          4.0\n",
            "3     2.02890  133.405  ...          0.0          3.0\n",
            "4     2.91890  187.375  ...          0.0          6.0\n",
            "...       ...      ...  ...          ...          ...\n",
            "1139  1.98820  287.343  ...          6.0          8.0\n",
            "1140  3.42130  286.114  ...          3.0          6.0\n",
            "1141  3.60960  308.333  ...          4.0          4.0\n",
            "1142  2.56214  354.815  ...          4.0          8.0\n",
            "1143  2.02164  179.219  ...          2.0          3.0\n",
            "\n",
            "[1144 rows x 11 columns]\n"
          ]
        }
      ]
    },
    {
      "cell_type": "code",
      "metadata": {
        "id": "iyEJ4fnHRUc5"
      },
      "source": [
        "import numpy as np \n",
        "df1=np.array(descriptors)\n",
        "\n",
        "#df_new=fingerprints_array.join(df1)"
      ],
      "execution_count": 18,
      "outputs": []
    },
    {
      "cell_type": "code",
      "metadata": {
        "id": "LaYtt-8VJ1DI",
        "colab": {
          "base_uri": "https://localhost:8080/"
        },
        "outputId": "d6aeedba-c346-43df-9bb7-28e7727a03f9"
      },
      "source": [
        "df1.shape\n",
        "#fingerprints_array.shape"
      ],
      "execution_count": 19,
      "outputs": [
        {
          "output_type": "execute_result",
          "data": {
            "text/plain": [
              "(1144, 11)"
            ]
          },
          "metadata": {},
          "execution_count": 19
        }
      ]
    },
    {
      "cell_type": "code",
      "metadata": {
        "colab": {
          "base_uri": "https://localhost:8080/"
        },
        "id": "yIv3BcZiTmgo",
        "outputId": "f2ccfb0e-bf61-4786-df20-b2114f5e7ddd"
      },
      "source": [
        "### Adding two numpy array with column wise .....to add 11 descriptors along with finger prints \n",
        "df_new = np.append(fingerprints_array, df1, axis = 1)\n",
        "df_new.shape"
      ],
      "execution_count": 20,
      "outputs": [
        {
          "output_type": "execute_result",
          "data": {
            "text/plain": [
              "(1144, 523)"
            ]
          },
          "metadata": {},
          "execution_count": 20
        }
      ]
    },
    {
      "cell_type": "code",
      "metadata": {
        "id": "cWFdRp5_Jig2"
      },
      "source": [
        "from sklearn.model_selection import train_test_split"
      ],
      "execution_count": 21,
      "outputs": []
    },
    {
      "cell_type": "code",
      "metadata": {
        "id": "ZO0_iEVhJt7L"
      },
      "source": [
        "X_train, X_test, y_train, y_test = train_test_split(df_new, solubility_array, test_size = 0.2)"
      ],
      "execution_count": 30,
      "outputs": []
    },
    {
      "cell_type": "code",
      "metadata": {
        "id": "wKu3T88TaOXc"
      },
      "source": [
        "#print(X_train[0])"
      ],
      "execution_count": null,
      "outputs": []
    },
    {
      "cell_type": "code",
      "metadata": {
        "id": "2CWMjOhCTT8C"
      },
      "source": [
        "### Making data as standard Scaler ....\n",
        "from sklearn.preprocessing import StandardScaler\n",
        "sc = StandardScaler()\n",
        "X_train = sc.fit_transform(X_train)\n",
        "X_test = sc.transform(X_test)\n"
      ],
      "execution_count": 34,
      "outputs": []
    },
    {
      "cell_type": "code",
      "metadata": {
        "id": "ZjPEVKuhy6YZ"
      },
      "source": [
        "#### Applying different Machine learning and Deep learning techique to know which works best ....\n",
        "from sklearn.svm import SVR\n",
        "from sklearn.ensemble import RandomForestRegressor\n",
        "from xgboost import XGBRegressor\n",
        "from sklearn.metrics import mean_squared_error, r2_score\n",
        "\n"
      ],
      "execution_count": 24,
      "outputs": []
    },
    {
      "cell_type": "code",
      "metadata": {
        "colab": {
          "base_uri": "https://localhost:8080/"
        },
        "id": "eUy_GThbzzMr",
        "outputId": "80a7c418-caa6-469a-dda1-bae8d2abc390"
      },
      "source": [
        "model_svr=SVR(kernel='rbf')\n",
        "model_svr.fit(X_train, y_train)"
      ],
      "execution_count": null,
      "outputs": [
        {
          "output_type": "execute_result",
          "data": {
            "text/plain": [
              "SVR(C=1.0, cache_size=200, coef0=0.0, degree=3, epsilon=0.1, gamma='scale',\n",
              "    kernel='rbf', max_iter=-1, shrinking=True, tol=0.001, verbose=False)"
            ]
          },
          "metadata": {},
          "execution_count": 221
        }
      ]
    },
    {
      "cell_type": "code",
      "metadata": {
        "colab": {
          "base_uri": "https://localhost:8080/"
        },
        "id": "5RWazIyVzzC5",
        "outputId": "5ab00f01-5abe-4185-8d94-d7e6d7d4f0e1"
      },
      "source": [
        "model_rf = RandomForestRegressor(n_estimators = 15000, random_state = 0)\n",
        "model_rf.fit(X_train, y_train)"
      ],
      "execution_count": 25,
      "outputs": [
        {
          "output_type": "execute_result",
          "data": {
            "text/plain": [
              "RandomForestRegressor(bootstrap=True, ccp_alpha=0.0, criterion='mse',\n",
              "                      max_depth=None, max_features='auto', max_leaf_nodes=None,\n",
              "                      max_samples=None, min_impurity_decrease=0.0,\n",
              "                      min_impurity_split=None, min_samples_leaf=1,\n",
              "                      min_samples_split=2, min_weight_fraction_leaf=0.0,\n",
              "                      n_estimators=15000, n_jobs=None, oob_score=False,\n",
              "                      random_state=0, verbose=0, warm_start=False)"
            ]
          },
          "metadata": {},
          "execution_count": 25
        }
      ]
    },
    {
      "cell_type": "code",
      "metadata": {
        "id": "dB7tvtGfjIOQ"
      },
      "source": [
        "Y_pred_test_rf = model_rf.predict(X_test)\n",
        "res = \"\\n\".join(\"{} {}\".format(x, y) for x, y in zip(y_test,Y_pred_test_rf ))\n",
        "#print(res)"
      ],
      "execution_count": 35,
      "outputs": []
    },
    {
      "cell_type": "code",
      "metadata": {
        "id": "BvM5LK44lCvF"
      },
      "source": [
        "Y_pred_train_rf = model_rf.predict(X_train)\n",
        "res = \"\\n\".join(\"{} {}\".format(x, y) for x, y in zip(y_test,Y_pred_test_rf ))\n",
        "#print(res)"
      ],
      "execution_count": 36,
      "outputs": []
    },
    {
      "cell_type": "code",
      "metadata": {
        "colab": {
          "base_uri": "https://localhost:8080/"
        },
        "id": "8Ko5fpanlGUk",
        "outputId": "aa8dade5-721c-492f-8518-53aafd5b8366"
      },
      "source": [
        "from sklearn.metrics import r2_score\n",
        "r2_score(y_train, Y_pred_train_rf)"
      ],
      "execution_count": 37,
      "outputs": [
        {
          "output_type": "execute_result",
          "data": {
            "text/plain": [
              "0.9760891036432956"
            ]
          },
          "metadata": {},
          "execution_count": 37
        }
      ]
    },
    {
      "cell_type": "code",
      "metadata": {
        "colab": {
          "base_uri": "https://localhost:8080/"
        },
        "id": "AP4cN5syjXV4",
        "outputId": "0a6260c6-c87d-4d73-fd3b-9d152ddcdfc1"
      },
      "source": [
        "from sklearn.metrics import r2_score\n",
        "r2_score(y_test, Y_pred_test_rf)"
      ],
      "execution_count": 38,
      "outputs": [
        {
          "output_type": "execute_result",
          "data": {
            "text/plain": [
              "0.9871392261914016"
            ]
          },
          "metadata": {},
          "execution_count": 38
        }
      ]
    },
    {
      "cell_type": "code",
      "metadata": {
        "colab": {
          "base_uri": "https://localhost:8080/"
        },
        "id": "l5KfX1vqzywA",
        "outputId": "c25cdeda-d792-49d8-fdde-7e593e0347a2"
      },
      "source": [
        "model_xgr = XGBRegressor(n_estimators = 15500, random_state = 0)\n",
        "model_xgr.fit(X_train, y_train)\n"
      ],
      "execution_count": 39,
      "outputs": [
        {
          "metadata": {
            "tags": null
          },
          "name": "stdout",
          "output_type": "stream",
          "text": [
            "[10:15:11] WARNING: /workspace/src/objective/regression_obj.cu:152: reg:linear is now deprecated in favor of reg:squarederror.\n"
          ]
        },
        {
          "output_type": "execute_result",
          "data": {
            "text/plain": [
              "XGBRegressor(base_score=0.5, booster='gbtree', colsample_bylevel=1,\n",
              "             colsample_bynode=1, colsample_bytree=1, gamma=0,\n",
              "             importance_type='gain', learning_rate=0.1, max_delta_step=0,\n",
              "             max_depth=3, min_child_weight=1, missing=None, n_estimators=15500,\n",
              "             n_jobs=1, nthread=None, objective='reg:linear', random_state=0,\n",
              "             reg_alpha=0, reg_lambda=1, scale_pos_weight=1, seed=None,\n",
              "             silent=None, subsample=1, verbosity=1)"
            ]
          },
          "metadata": {},
          "execution_count": 39
        }
      ]
    },
    {
      "cell_type": "code",
      "metadata": {
        "id": "ORWhkrjRl6Eu"
      },
      "source": [
        "Y_pred_train_xg = model_xgr.predict(X_train)\n",
        "res = \"\\n\".join(\"{} {}\".format(x, y) for x, y in zip(y_test,Y_pred_test_rf ))\n",
        "#print(res)"
      ],
      "execution_count": 40,
      "outputs": []
    },
    {
      "cell_type": "code",
      "metadata": {
        "colab": {
          "base_uri": "https://localhost:8080/"
        },
        "id": "9yugs5gVmCri",
        "outputId": "2699ea3e-4a9c-4924-fb6a-318565c00c18"
      },
      "source": [
        "from sklearn.metrics import r2_score\n",
        "r2_score(y_train, Y_pred_train_xg)"
      ],
      "execution_count": 41,
      "outputs": [
        {
          "output_type": "execute_result",
          "data": {
            "text/plain": [
              "0.9999979138009931"
            ]
          },
          "metadata": {},
          "execution_count": 41
        }
      ]
    },
    {
      "cell_type": "code",
      "metadata": {
        "id": "FwzI_HBFjLIe"
      },
      "source": [
        "Y_pred_test_xg = model_xgr.predict(X_test)\n",
        "res = \"\\n\".join(\"{} {}\".format(x, y) for x, y in zip(y_test,Y_pred_test_rf ))\n",
        "#print(res)"
      ],
      "execution_count": 42,
      "outputs": []
    },
    {
      "cell_type": "code",
      "metadata": {
        "colab": {
          "base_uri": "https://localhost:8080/"
        },
        "id": "Qgqq2c5zjbHU",
        "outputId": "dbe2e276-7ed2-48d1-9050-9670559405f3"
      },
      "source": [
        "from sklearn.metrics import r2_score\n",
        "r2_score(y_test, Y_pred_test_xg)"
      ],
      "execution_count": 43,
      "outputs": [
        {
          "output_type": "execute_result",
          "data": {
            "text/plain": [
              "0.9771805274376312"
            ]
          },
          "metadata": {},
          "execution_count": 43
        }
      ]
    },
    {
      "cell_type": "code",
      "metadata": {
        "colab": {
          "base_uri": "https://localhost:8080/",
          "height": 313
        },
        "id": "SsUbYPz50XrW",
        "outputId": "9c22ddd1-7ba2-42bf-89df-fada3f4e6564"
      },
      "source": [
        "import matplotlib.pyplot as plt\n",
        "preds = model_rf.predict(X_train)\n",
        "x_y_line = np.linspace(min(y_train.flatten()), max(y_train.flatten()), 500)\n",
        "plt.plot(y_train.flatten(), preds.flatten(), 'o', label='predictions')\n",
        "plt.plot(x_y_line, x_y_line, label='y=x')\n",
        "plt.xlabel(\"Log solubility (ground truth)\")\n",
        "plt.ylabel(\"Log solubility (predicted)\")\n",
        "plt.title(\"Parity plot: predictions vs ground truth data\")\n",
        "plt.legend()"
      ],
      "execution_count": null,
      "outputs": [
        {
          "output_type": "execute_result",
          "data": {
            "text/plain": [
              "<matplotlib.legend.Legend at 0x7f43e4307410>"
            ]
          },
          "metadata": {},
          "execution_count": 30
        },
        {
          "output_type": "display_data",
          "data": {
            "image/png": "[encoded data removed]",
            "text/plain": [
              "<Figure size 432x288 with 1 Axes>"
            ]
          },
          "metadata": {
            "needs_background": "light"
          }
        }
      ]
    },
    {
      "cell_type": "code",
      "metadata": {
        "id": "qMdlAf0d24Ym"
      },
      "source": [
        "import pickle\n",
        "#### Save the model :::::\n",
        "#filename = 'finalized_model.rf'\n",
        "#pickle.dump(model_rf, open('/content/drive/MyDrive/KIT/solubility_model_98.71_523_delney.pkl', 'wb'))\n",
        "pickle.dump(model_xgr, open('/content/drive/MyDrive/KIT/solubility_model_97.71_523_delney.pkl', 'wb'))\n",
        "\n",
        "#model_rf.save(\"/content/drive/MyDrive/KIT/solubility_model_96.61_523_delney.pkl\")"
      ],
      "execution_count": 45,
      "outputs": []
    },
    {
      "cell_type": "code",
      "metadata": {
        "colab": {
          "base_uri": "https://localhost:8080/"
        },
        "id": "M4SVWNP74x9k",
        "outputId": "5d1c42ec-8ba5-4a75-90f3-886e0b16bab9"
      },
      "source": [
        "# some time later...\n",
        "import pickle \n",
        "# load the model from disk\n",
        "#loaded_model = pickle.load(open('/content/drive/MyDrive/KIT/solubility_model_97.55_523_delney.pkl', 'rb'))\n",
        "loaded_model = pickle.load(open('/content/drive/MyDrive/KIT/solubility_model_98.71_523_delney.pkl', 'rb'))\n",
        "Y_pred_test_rf = loaded_model.predict(X_test)\n",
        "result = r2_score(y_test, Y_pred_test_rf)\n",
        "print(result)"
      ],
      "execution_count": 46,
      "outputs": [
        {
          "output_type": "stream",
          "name": "stdout",
          "text": [
            "0.9871392261914016\n"
          ]
        }
      ]
    },
    {
      "cell_type": "code",
      "metadata": {
        "colab": {
          "base_uri": "https://localhost:8080/",
          "height": 313
        },
        "id": "LK2nZmzE3NIN",
        "outputId": "dd637230-8afa-493c-f643-f17167ddd8ae"
      },
      "source": [
        "import matplotlib.pyplot as plt\n",
        "preds = model_xgr.predict(X_test)\n",
        "x_y_line = np.linspace(min(y_test.flatten()), max(y_test.flatten()), 500)\n",
        "plt.plot(y_test.flatten(), preds.flatten(), 'o', label='predictions')\n",
        "plt.plot(x_y_line, x_y_line, label='y_test')\n",
        "plt.xlabel(\"Log solubility (ground truth)\")\n",
        "plt.ylabel(\"Log solubility (predicted)\")\n",
        "plt.title(\"Parity plot: predictions vs ground truth data\")\n",
        "plt.legend()"
      ],
      "execution_count": 47,
      "outputs": [
        {
          "output_type": "execute_result",
          "data": {
            "text/plain": [
              "<matplotlib.legend.Legend at 0x7feeee03e1d0>"
            ]
          },
          "metadata": {},
          "execution_count": 47
        },
        {
          "output_type": "display_data",
          "data": {
            "image/png": "[encoded data removed]",
            "text/plain": [
              "<Figure size 432x288 with 1 Axes>"
            ]
          },
          "metadata": {
            "needs_background": "light"
          }
        }
      ]
    },
    {
      "cell_type": "code",
      "metadata": {
        "id": "_0cKxo3pi2mk"
      },
      "source": [
        ""
      ],
      "execution_count": null,
      "outputs": []
    },
    {
      "cell_type": "code",
      "metadata": {
        "id": "lwz0GK-Y8OX5"
      },
      "source": [
        "# Initialising the ANN\n",
        "model = Sequential()\n",
        "\n",
        "# Adding the input layer and the first hidden layer\n",
        "model.add(Dense(64, activation = 'relu', input_dim = 523))\n",
        "\n",
        "# Adding the second hidden layer\n",
        "model.add(Dense(units = 64, activation = 'relu'))\n",
        "\n",
        "# Adding the third hidden layer\n",
        "model.add(Dense(units = 64, activation = 'relu'))\n",
        "\n",
        "# Adding the fourth hidden layer\n",
        "model.add(Dense(units = 32, activation = 'relu'))\n",
        "\n",
        "# Adding the fourth hidden layer\n",
        "model.add(Dense(units = 32, activation = 'relu'))\n",
        "\n",
        "# Adding the fourth hidden layer\n",
        "model.add(Dense(units = 16, activation = 'relu'))\n",
        "\n",
        "# Adding the fourth hidden layer\n",
        "#model.add(Dense(units = 16, activation = 'relu'))\n",
        "\n",
        "\n",
        "# Adding the output layer\n",
        "model.add(Dense(units = 1))"
      ],
      "execution_count": 49,
      "outputs": []
    },
    {
      "cell_type": "code",
      "metadata": {
        "id": "oTbGM6EP8YYY"
      },
      "source": [
        "model.compile(optimizer = 'adam', loss = 'mean_squared_error')"
      ],
      "execution_count": 50,
      "outputs": []
    },
    {
      "cell_type": "code",
      "metadata": {
        "id": "AwNkWAaZ8dxW"
      },
      "source": [
        "#model.fit(X_train, y_train, batch_size = 10, epochs = 500)"
      ],
      "execution_count": 54,
      "outputs": []
    },
    {
      "cell_type": "code",
      "metadata": {
        "id": "Odcm4mv3poXk"
      },
      "source": [
        "Y_pred_test_ann = model.predict(X_test)\n",
        "res = \"\\n\".join(\"{} {}\".format(x, y) for x, y in zip(y_test,Y_pred_test_rf ))\n",
        "#print(res)"
      ],
      "execution_count": 52,
      "outputs": []
    },
    {
      "cell_type": "code",
      "metadata": {
        "colab": {
          "base_uri": "https://localhost:8080/"
        },
        "id": "XwQZ7FfJ9X7h",
        "outputId": "0d6270ab-cc54-4257-af4d-5643d2227289"
      },
      "source": [
        "from sklearn.metrics import r2_score\n",
        "r2_score(y_test, Y_pred_test_ann)"
      ],
      "execution_count": 53,
      "outputs": [
        {
          "output_type": "execute_result",
          "data": {
            "text/plain": [
              "0.9103826016159653"
            ]
          },
          "metadata": {},
          "execution_count": 53
        }
      ]
    },
    {
      "cell_type": "code",
      "metadata": {
        "id": "X8XsOgSuqAUk"
      },
      "source": [
        "# Save the model\n",
        "model.save(\"/content/drive/MyDrive/KIT/solubility_model_91_delney.hdf5\")"
      ],
      "execution_count": 55,
      "outputs": []
    }
  ]
}